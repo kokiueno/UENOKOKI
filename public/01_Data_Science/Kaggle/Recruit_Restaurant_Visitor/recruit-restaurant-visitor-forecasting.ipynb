{
 "cells": [
  {
   "cell_type": "markdown",
   "metadata": {
    "_cell_guid": "b1076dfc-b9ad-4769-8c92-a6c4dae69d19",
    "_uuid": "8f2839f25d086af736a60e9eeb907d3b93b6e0e5",
    "papermill": {
     "duration": 0.024364,
     "end_time": "2023-06-22T22:33:03.399319",
     "exception": false,
     "start_time": "2023-06-22T22:33:03.374955",
     "status": "completed"
    },
    "tags": []
   },
   "source": [
    "# **このKaggleコンペについて** 　　　「リクルートのレストランの訪問者を予測」"
   ]
  },
  {
   "cell_type": "markdown",
   "metadata": {
    "papermill": {
     "duration": 0.02279,
     "end_time": "2023-06-22T22:33:03.444722",
     "exception": false,
     "start_time": "2023-06-22T22:33:03.421932",
     "status": "completed"
    },
    "tags": []
   },
   "source": [
    "###   ///客の予約時のデータと実際に来店した際のデータを使用して、将来の各レストランに訪れる客の数を予測するというもの\\\\\\"
   ]
  },
  {
   "cell_type": "markdown",
   "metadata": {
    "papermill": {
     "duration": 0.022537,
     "end_time": "2023-06-22T22:33:03.490902",
     "exception": false,
     "start_time": "2023-06-22T22:33:03.468365",
     "status": "completed"
    },
    "tags": []
   },
   "source": [
    "### air: Airレジ（飲食店向けPOSレジアプリ）の情報　/ 　hpg: ホットペッパーの情報"
   ]
  },
  {
   "cell_type": "code",
   "execution_count": 1,
   "metadata": {
    "execution": {
     "iopub.execute_input": "2023-06-22T22:33:03.542351Z",
     "iopub.status.busy": "2023-06-22T22:33:03.541744Z",
     "iopub.status.idle": "2023-06-22T22:33:03.548393Z",
     "shell.execute_reply": "2023-06-22T22:33:03.547924Z",
     "shell.execute_reply.started": "2023-06-22T21:41:59.869851Z"
    },
    "papermill": {
     "duration": 0.034472,
     "end_time": "2023-06-22T22:33:03.548503",
     "exception": false,
     "start_time": "2023-06-22T22:33:03.514031",
     "status": "completed"
    },
    "tags": []
   },
   "outputs": [
    {
     "name": "stdout",
     "output_type": "stream",
     "text": [
      "/kaggle/input/recruit-restaurant-visitor-forecasting/air_reserve.csv.zip\n",
      "/kaggle/input/recruit-restaurant-visitor-forecasting/hpg_store_info.csv.zip\n",
      "/kaggle/input/recruit-restaurant-visitor-forecasting/hpg_reserve.csv.zip\n",
      "/kaggle/input/recruit-restaurant-visitor-forecasting/sample_submission.csv.zip\n",
      "/kaggle/input/recruit-restaurant-visitor-forecasting/air_visit_data.csv.zip\n",
      "/kaggle/input/recruit-restaurant-visitor-forecasting/air_store_info.csv.zip\n",
      "/kaggle/input/recruit-restaurant-visitor-forecasting/date_info.csv.zip\n",
      "/kaggle/input/recruit-restaurant-visitor-forecasting/store_id_relation.csv.zip\n"
     ]
    }
   ],
   "source": [
    "# 与えられたinput用データを確認\n",
    "# -----------------------------------\n",
    "import os\n",
    "for dirname, _, filenames in os.walk('/kaggle/input'):\n",
    "    for filename in filenames:\n",
    "        print(os.path.join(dirname, filename))"
   ]
  },
  {
   "cell_type": "code",
   "execution_count": 2,
   "metadata": {
    "_cell_guid": "79c7e3d0-c299-4dcb-8224-4455121ee9b0",
    "_uuid": "d629ff2d2480ee46fbb7e2d37f6b5fab8052498a",
    "execution": {
     "iopub.execute_input": "2023-06-22T22:33:03.611237Z",
     "iopub.status.busy": "2023-06-22T22:33:03.609558Z",
     "iopub.status.idle": "2023-06-22T22:33:07.187545Z",
     "shell.execute_reply": "2023-06-22T22:33:07.187023Z",
     "shell.execute_reply.started": "2023-06-22T21:41:59.889567Z"
    },
    "papermill": {
     "duration": 3.61423,
     "end_time": "2023-06-22T22:33:07.187645",
     "exception": false,
     "start_time": "2023-06-22T22:33:03.573415",
     "status": "completed"
    },
    "tags": []
   },
   "outputs": [
    {
     "data": {
      "text/plain": [
       "((92378, 4),\n",
       " (829, 5),\n",
       " (252108, 3),\n",
       " (517, 3),\n",
       " (2000320, 4),\n",
       " (4690, 5),\n",
       " (32019, 2),\n",
       " (150, 2))"
      ]
     },
     "execution_count": 2,
     "metadata": {},
     "output_type": "execute_result"
    }
   ],
   "source": [
    "# 基本モジュールをインポートする\n",
    "# -----------------------------------\n",
    "import pandas as pd    # data processing(情報処理する)\n",
    "import numpy as np    # linear algebra(線形の形にする)\n",
    "import scipy as sp    # Science and Technology Calculation(科学技術計算する)\n",
    "import matplotlib.pyplot as plt    # 可視化のためのモジュール\n",
    "%matplotlib inline\n",
    "import seaborn as sns    # 可視化のためのモジュール\n",
    "import warnings    # 不要な警告を無視する(出さない)ためのモジュール\n",
    "warnings.filterwarnings('ignore')\n",
    "warnings.simplefilter(action='ignore', category=FutureWarning)\n",
    "from IPython.display import Image    # 画像表示のためのモジュール\n",
    "\n",
    "# # 分析のためのモジュールをインポート(SKLEARNはMLのためのモジュール)\n",
    "# -----------------------------------\n",
    "from sklearn.preprocessing import StandardScaler    # データの標準化\n",
    "from sklearn.linear_model import LogisticRegression    # ロジスティック回帰\n",
    "from sklearn import linear_model    # 回帰\n",
    "from sklearn.tree import DecisionTreeClassifier    # 決定木\n",
    "from sklearn.metrics import accuracy_score    # 精度評価\n",
    "from sklearn.metrics import classification_report,confusion_matrix    # モデルの良し悪しを判断する\n",
    "\n",
    "# データセットのインポート\n",
    "# -----------------------------------\n",
    "air_reserve = pd.read_csv('../input/recruit-restaurant-visitor-forecasting/air_reserve.csv.zip')\n",
    "air_store = pd.read_csv('../input/recruit-restaurant-visitor-forecasting/air_store_info.csv.zip')\n",
    "air_visit = pd.read_csv('../input/recruit-restaurant-visitor-forecasting/air_visit_data.csv.zip')\n",
    "date_info = pd.read_csv('../input/recruit-restaurant-visitor-forecasting/date_info.csv.zip')\n",
    "hpg_reserve = pd.read_csv('../input/recruit-restaurant-visitor-forecasting/hpg_reserve.csv.zip')\n",
    "hpg_store = pd.read_csv('../input/recruit-restaurant-visitor-forecasting/hpg_store_info.csv.zip')\n",
    "sample = pd.read_csv('../input/recruit-restaurant-visitor-forecasting/sample_submission.csv.zip')\n",
    "store_id_relation = pd.read_csv('../input/recruit-restaurant-visitor-forecasting/store_id_relation.csv.zip')\n",
    "\n",
    "air_reserve.shape ,air_store.shape ,air_visit.shape ,date_info.shape ,hpg_reserve.shape ,hpg_store.shape ,sample.shape ,store_id_relation.shape"
   ]
  },
  {
   "cell_type": "code",
   "execution_count": 3,
   "metadata": {
    "execution": {
     "iopub.execute_input": "2023-06-22T22:33:07.250498Z",
     "iopub.status.busy": "2023-06-22T22:33:07.245362Z",
     "iopub.status.idle": "2023-06-22T22:33:07.258431Z",
     "shell.execute_reply": "2023-06-22T22:33:07.257817Z",
     "shell.execute_reply.started": "2023-06-22T21:42:07.052136Z"
    },
    "papermill": {
     "duration": 0.045248,
     "end_time": "2023-06-22T22:33:07.258531",
     "exception": false,
     "start_time": "2023-06-22T22:33:07.213283",
     "status": "completed"
    },
    "tags": []
   },
   "outputs": [
    {
     "data": {
      "text/html": [
       "<div>\n",
       "<style scoped>\n",
       "    .dataframe tbody tr th:only-of-type {\n",
       "        vertical-align: middle;\n",
       "    }\n",
       "\n",
       "    .dataframe tbody tr th {\n",
       "        vertical-align: top;\n",
       "    }\n",
       "\n",
       "    .dataframe thead th {\n",
       "        text-align: right;\n",
       "    }\n",
       "</style>\n",
       "<table border=\"1\" class=\"dataframe\">\n",
       "  <thead>\n",
       "    <tr style=\"text-align: right;\">\n",
       "      <th></th>\n",
       "      <th>air_store_id</th>\n",
       "      <th>visit_datetime</th>\n",
       "      <th>reserve_datetime</th>\n",
       "      <th>reserve_visitors</th>\n",
       "    </tr>\n",
       "  </thead>\n",
       "  <tbody>\n",
       "    <tr>\n",
       "      <th>0</th>\n",
       "      <td>air_877f79706adbfb06</td>\n",
       "      <td>2016-01-01 19:00:00</td>\n",
       "      <td>2016-01-01 16:00:00</td>\n",
       "      <td>1</td>\n",
       "    </tr>\n",
       "    <tr>\n",
       "      <th>1</th>\n",
       "      <td>air_db4b38ebe7a7ceff</td>\n",
       "      <td>2016-01-01 19:00:00</td>\n",
       "      <td>2016-01-01 19:00:00</td>\n",
       "      <td>3</td>\n",
       "    </tr>\n",
       "    <tr>\n",
       "      <th>2</th>\n",
       "      <td>air_db4b38ebe7a7ceff</td>\n",
       "      <td>2016-01-01 19:00:00</td>\n",
       "      <td>2016-01-01 19:00:00</td>\n",
       "      <td>6</td>\n",
       "    </tr>\n",
       "  </tbody>\n",
       "</table>\n",
       "</div>"
      ],
      "text/plain": [
       "           air_store_id       visit_datetime     reserve_datetime  \\\n",
       "0  air_877f79706adbfb06  2016-01-01 19:00:00  2016-01-01 16:00:00   \n",
       "1  air_db4b38ebe7a7ceff  2016-01-01 19:00:00  2016-01-01 19:00:00   \n",
       "2  air_db4b38ebe7a7ceff  2016-01-01 19:00:00  2016-01-01 19:00:00   \n",
       "\n",
       "   reserve_visitors  \n",
       "0                 1  \n",
       "1                 3  \n",
       "2                 6  "
      ]
     },
     "execution_count": 3,
     "metadata": {},
     "output_type": "execute_result"
    }
   ],
   "source": [
    "air_reserve.head(3)\n",
    "\n",
    "#来店者の情報(air)\n",
    "#  Store id(air_store_id)\n",
    "#  来店した日時(visit_datetime)\n",
    "#  予約した日時(reserve_datetime)\n",
    "#  来店者数(reserve_visitors)"
   ]
  },
  {
   "cell_type": "code",
   "execution_count": 4,
   "metadata": {
    "execution": {
     "iopub.execute_input": "2023-06-22T22:33:07.320545Z",
     "iopub.status.busy": "2023-06-22T22:33:07.319948Z",
     "iopub.status.idle": "2023-06-22T22:33:07.324438Z",
     "shell.execute_reply": "2023-06-22T22:33:07.323852Z",
     "shell.execute_reply.started": "2023-06-22T21:42:07.646219Z"
    },
    "papermill": {
     "duration": 0.039182,
     "end_time": "2023-06-22T22:33:07.324534",
     "exception": false,
     "start_time": "2023-06-22T22:33:07.285352",
     "status": "completed"
    },
    "tags": []
   },
   "outputs": [
    {
     "data": {
      "text/html": [
       "<div>\n",
       "<style scoped>\n",
       "    .dataframe tbody tr th:only-of-type {\n",
       "        vertical-align: middle;\n",
       "    }\n",
       "\n",
       "    .dataframe tbody tr th {\n",
       "        vertical-align: top;\n",
       "    }\n",
       "\n",
       "    .dataframe thead th {\n",
       "        text-align: right;\n",
       "    }\n",
       "</style>\n",
       "<table border=\"1\" class=\"dataframe\">\n",
       "  <thead>\n",
       "    <tr style=\"text-align: right;\">\n",
       "      <th></th>\n",
       "      <th>air_store_id</th>\n",
       "      <th>air_genre_name</th>\n",
       "      <th>air_area_name</th>\n",
       "      <th>latitude</th>\n",
       "      <th>longitude</th>\n",
       "    </tr>\n",
       "  </thead>\n",
       "  <tbody>\n",
       "    <tr>\n",
       "      <th>0</th>\n",
       "      <td>air_0f0cdeee6c9bf3d7</td>\n",
       "      <td>Italian/French</td>\n",
       "      <td>Hyōgo-ken Kōbe-shi Kumoidōri</td>\n",
       "      <td>34.695124</td>\n",
       "      <td>135.197852</td>\n",
       "    </tr>\n",
       "    <tr>\n",
       "      <th>1</th>\n",
       "      <td>air_7cc17a324ae5c7dc</td>\n",
       "      <td>Italian/French</td>\n",
       "      <td>Hyōgo-ken Kōbe-shi Kumoidōri</td>\n",
       "      <td>34.695124</td>\n",
       "      <td>135.197852</td>\n",
       "    </tr>\n",
       "    <tr>\n",
       "      <th>2</th>\n",
       "      <td>air_fee8dcf4d619598e</td>\n",
       "      <td>Italian/French</td>\n",
       "      <td>Hyōgo-ken Kōbe-shi Kumoidōri</td>\n",
       "      <td>34.695124</td>\n",
       "      <td>135.197852</td>\n",
       "    </tr>\n",
       "  </tbody>\n",
       "</table>\n",
       "</div>"
      ],
      "text/plain": [
       "           air_store_id  air_genre_name                 air_area_name  \\\n",
       "0  air_0f0cdeee6c9bf3d7  Italian/French  Hyōgo-ken Kōbe-shi Kumoidōri   \n",
       "1  air_7cc17a324ae5c7dc  Italian/French  Hyōgo-ken Kōbe-shi Kumoidōri   \n",
       "2  air_fee8dcf4d619598e  Italian/French  Hyōgo-ken Kōbe-shi Kumoidōri   \n",
       "\n",
       "    latitude   longitude  \n",
       "0  34.695124  135.197852  \n",
       "1  34.695124  135.197852  \n",
       "2  34.695124  135.197852  "
      ]
     },
     "execution_count": 4,
     "metadata": {},
     "output_type": "execute_result"
    }
   ],
   "source": [
    "air_store.head(3)\n",
    "\n",
    "#来店者の情報(air)\n",
    "#  Store id(air_store_id)\n",
    "#  店舗のジャンル(air_genre_name)\n",
    "#  場所(air_area_name)\n",
    "#  緯度 (latitude)\n",
    "#  経度 (longitude)"
   ]
  },
  {
   "cell_type": "code",
   "execution_count": 5,
   "metadata": {
    "execution": {
     "iopub.execute_input": "2023-06-22T22:33:07.375863Z",
     "iopub.status.busy": "2023-06-22T22:33:07.375374Z",
     "iopub.status.idle": "2023-06-22T22:33:07.384234Z",
     "shell.execute_reply": "2023-06-22T22:33:07.383637Z",
     "shell.execute_reply.started": "2023-06-22T21:42:08.044498Z"
    },
    "papermill": {
     "duration": 0.035202,
     "end_time": "2023-06-22T22:33:07.384352",
     "exception": false,
     "start_time": "2023-06-22T22:33:07.349150",
     "status": "completed"
    },
    "tags": []
   },
   "outputs": [
    {
     "data": {
      "text/html": [
       "<div>\n",
       "<style scoped>\n",
       "    .dataframe tbody tr th:only-of-type {\n",
       "        vertical-align: middle;\n",
       "    }\n",
       "\n",
       "    .dataframe tbody tr th {\n",
       "        vertical-align: top;\n",
       "    }\n",
       "\n",
       "    .dataframe thead th {\n",
       "        text-align: right;\n",
       "    }\n",
       "</style>\n",
       "<table border=\"1\" class=\"dataframe\">\n",
       "  <thead>\n",
       "    <tr style=\"text-align: right;\">\n",
       "      <th></th>\n",
       "      <th>air_store_id</th>\n",
       "      <th>visit_date</th>\n",
       "      <th>visitors</th>\n",
       "    </tr>\n",
       "  </thead>\n",
       "  <tbody>\n",
       "    <tr>\n",
       "      <th>0</th>\n",
       "      <td>air_ba937bf13d40fb24</td>\n",
       "      <td>2016-01-13</td>\n",
       "      <td>25</td>\n",
       "    </tr>\n",
       "    <tr>\n",
       "      <th>1</th>\n",
       "      <td>air_ba937bf13d40fb24</td>\n",
       "      <td>2016-01-14</td>\n",
       "      <td>32</td>\n",
       "    </tr>\n",
       "    <tr>\n",
       "      <th>2</th>\n",
       "      <td>air_ba937bf13d40fb24</td>\n",
       "      <td>2016-01-15</td>\n",
       "      <td>29</td>\n",
       "    </tr>\n",
       "  </tbody>\n",
       "</table>\n",
       "</div>"
      ],
      "text/plain": [
       "           air_store_id  visit_date  visitors\n",
       "0  air_ba937bf13d40fb24  2016-01-13        25\n",
       "1  air_ba937bf13d40fb24  2016-01-14        32\n",
       "2  air_ba937bf13d40fb24  2016-01-15        29"
      ]
     },
     "execution_count": 5,
     "metadata": {},
     "output_type": "execute_result"
    }
   ],
   "source": [
    "air_visit.head(3)\n",
    "\n",
    "#来店者の情報(air)\n",
    "#  Store id(air_store_id)\n",
    "#  日付(visit_date)\n",
    "#  来店者数(visitors)"
   ]
  },
  {
   "cell_type": "code",
   "execution_count": 6,
   "metadata": {
    "execution": {
     "iopub.execute_input": "2023-06-22T22:33:07.444509Z",
     "iopub.status.busy": "2023-06-22T22:33:07.443839Z",
     "iopub.status.idle": "2023-06-22T22:33:07.447172Z",
     "shell.execute_reply": "2023-06-22T22:33:07.446588Z",
     "shell.execute_reply.started": "2023-06-22T21:42:08.322455Z"
    },
    "papermill": {
     "duration": 0.036788,
     "end_time": "2023-06-22T22:33:07.447274",
     "exception": false,
     "start_time": "2023-06-22T22:33:07.410486",
     "status": "completed"
    },
    "tags": []
   },
   "outputs": [
    {
     "data": {
      "text/html": [
       "<div>\n",
       "<style scoped>\n",
       "    .dataframe tbody tr th:only-of-type {\n",
       "        vertical-align: middle;\n",
       "    }\n",
       "\n",
       "    .dataframe tbody tr th {\n",
       "        vertical-align: top;\n",
       "    }\n",
       "\n",
       "    .dataframe thead th {\n",
       "        text-align: right;\n",
       "    }\n",
       "</style>\n",
       "<table border=\"1\" class=\"dataframe\">\n",
       "  <thead>\n",
       "    <tr style=\"text-align: right;\">\n",
       "      <th></th>\n",
       "      <th>calendar_date</th>\n",
       "      <th>day_of_week</th>\n",
       "      <th>holiday_flg</th>\n",
       "    </tr>\n",
       "  </thead>\n",
       "  <tbody>\n",
       "    <tr>\n",
       "      <th>0</th>\n",
       "      <td>2016-01-01</td>\n",
       "      <td>Friday</td>\n",
       "      <td>1</td>\n",
       "    </tr>\n",
       "    <tr>\n",
       "      <th>1</th>\n",
       "      <td>2016-01-02</td>\n",
       "      <td>Saturday</td>\n",
       "      <td>1</td>\n",
       "    </tr>\n",
       "    <tr>\n",
       "      <th>2</th>\n",
       "      <td>2016-01-03</td>\n",
       "      <td>Sunday</td>\n",
       "      <td>1</td>\n",
       "    </tr>\n",
       "  </tbody>\n",
       "</table>\n",
       "</div>"
      ],
      "text/plain": [
       "  calendar_date day_of_week  holiday_flg\n",
       "0    2016-01-01      Friday            1\n",
       "1    2016-01-02    Saturday            1\n",
       "2    2016-01-03      Sunday            1"
      ]
     },
     "execution_count": 6,
     "metadata": {},
     "output_type": "execute_result"
    }
   ],
   "source": [
    "date_info.head(3)\n",
    "\n",
    "#カレンダーの情報(data)\n",
    "#  カレンダー(calendar_date)\n",
    "#  曜日(day_of_week)\n",
    "#  休日かどうか(holiday_flg) (1休日、祝日:,0:平日)"
   ]
  },
  {
   "cell_type": "code",
   "execution_count": 7,
   "metadata": {
    "execution": {
     "iopub.execute_input": "2023-06-22T22:33:07.502777Z",
     "iopub.status.busy": "2023-06-22T22:33:07.502165Z",
     "iopub.status.idle": "2023-06-22T22:33:07.510409Z",
     "shell.execute_reply": "2023-06-22T22:33:07.510888Z",
     "shell.execute_reply.started": "2023-06-22T21:42:08.742394Z"
    },
    "papermill": {
     "duration": 0.038065,
     "end_time": "2023-06-22T22:33:07.511039",
     "exception": false,
     "start_time": "2023-06-22T22:33:07.472974",
     "status": "completed"
    },
    "tags": []
   },
   "outputs": [
    {
     "data": {
      "text/html": [
       "<div>\n",
       "<style scoped>\n",
       "    .dataframe tbody tr th:only-of-type {\n",
       "        vertical-align: middle;\n",
       "    }\n",
       "\n",
       "    .dataframe tbody tr th {\n",
       "        vertical-align: top;\n",
       "    }\n",
       "\n",
       "    .dataframe thead th {\n",
       "        text-align: right;\n",
       "    }\n",
       "</style>\n",
       "<table border=\"1\" class=\"dataframe\">\n",
       "  <thead>\n",
       "    <tr style=\"text-align: right;\">\n",
       "      <th></th>\n",
       "      <th>hpg_store_id</th>\n",
       "      <th>visit_datetime</th>\n",
       "      <th>reserve_datetime</th>\n",
       "      <th>reserve_visitors</th>\n",
       "    </tr>\n",
       "  </thead>\n",
       "  <tbody>\n",
       "    <tr>\n",
       "      <th>0</th>\n",
       "      <td>hpg_c63f6f42e088e50f</td>\n",
       "      <td>2016-01-01 11:00:00</td>\n",
       "      <td>2016-01-01 09:00:00</td>\n",
       "      <td>1</td>\n",
       "    </tr>\n",
       "    <tr>\n",
       "      <th>1</th>\n",
       "      <td>hpg_dac72789163a3f47</td>\n",
       "      <td>2016-01-01 13:00:00</td>\n",
       "      <td>2016-01-01 06:00:00</td>\n",
       "      <td>3</td>\n",
       "    </tr>\n",
       "    <tr>\n",
       "      <th>2</th>\n",
       "      <td>hpg_c8e24dcf51ca1eb5</td>\n",
       "      <td>2016-01-01 16:00:00</td>\n",
       "      <td>2016-01-01 14:00:00</td>\n",
       "      <td>2</td>\n",
       "    </tr>\n",
       "  </tbody>\n",
       "</table>\n",
       "</div>"
      ],
      "text/plain": [
       "           hpg_store_id       visit_datetime     reserve_datetime  \\\n",
       "0  hpg_c63f6f42e088e50f  2016-01-01 11:00:00  2016-01-01 09:00:00   \n",
       "1  hpg_dac72789163a3f47  2016-01-01 13:00:00  2016-01-01 06:00:00   \n",
       "2  hpg_c8e24dcf51ca1eb5  2016-01-01 16:00:00  2016-01-01 14:00:00   \n",
       "\n",
       "   reserve_visitors  \n",
       "0                 1  \n",
       "1                 3  \n",
       "2                 2  "
      ]
     },
     "execution_count": 7,
     "metadata": {},
     "output_type": "execute_result"
    }
   ],
   "source": [
    "hpg_reserve.head(3)\n",
    "\n",
    "#予約の情報(hpg)\n",
    "#  Store id(hpg_store_id)\n",
    "#  来店した日時(visit_datetime)\n",
    "#  予約した日時(reserve_datetime)\n",
    "#  (行く予定の予約日時ではなく予約自体をした日時と思われる)\n",
    "#  予約した人数(reserve_visitors)"
   ]
  },
  {
   "cell_type": "code",
   "execution_count": 8,
   "metadata": {
    "execution": {
     "iopub.execute_input": "2023-06-22T22:33:07.565284Z",
     "iopub.status.busy": "2023-06-22T22:33:07.564733Z",
     "iopub.status.idle": "2023-06-22T22:33:07.573723Z",
     "shell.execute_reply": "2023-06-22T22:33:07.574258Z",
     "shell.execute_reply.started": "2023-06-22T21:42:09.176802Z"
    },
    "papermill": {
     "duration": 0.038007,
     "end_time": "2023-06-22T22:33:07.574391",
     "exception": false,
     "start_time": "2023-06-22T22:33:07.536384",
     "status": "completed"
    },
    "tags": []
   },
   "outputs": [
    {
     "data": {
      "text/html": [
       "<div>\n",
       "<style scoped>\n",
       "    .dataframe tbody tr th:only-of-type {\n",
       "        vertical-align: middle;\n",
       "    }\n",
       "\n",
       "    .dataframe tbody tr th {\n",
       "        vertical-align: top;\n",
       "    }\n",
       "\n",
       "    .dataframe thead th {\n",
       "        text-align: right;\n",
       "    }\n",
       "</style>\n",
       "<table border=\"1\" class=\"dataframe\">\n",
       "  <thead>\n",
       "    <tr style=\"text-align: right;\">\n",
       "      <th></th>\n",
       "      <th>hpg_store_id</th>\n",
       "      <th>hpg_genre_name</th>\n",
       "      <th>hpg_area_name</th>\n",
       "      <th>latitude</th>\n",
       "      <th>longitude</th>\n",
       "    </tr>\n",
       "  </thead>\n",
       "  <tbody>\n",
       "    <tr>\n",
       "      <th>0</th>\n",
       "      <td>hpg_6622b62385aec8bf</td>\n",
       "      <td>Japanese style</td>\n",
       "      <td>Tōkyō-to Setagaya-ku Taishidō</td>\n",
       "      <td>35.643675</td>\n",
       "      <td>139.668221</td>\n",
       "    </tr>\n",
       "    <tr>\n",
       "      <th>1</th>\n",
       "      <td>hpg_e9e068dd49c5fa00</td>\n",
       "      <td>Japanese style</td>\n",
       "      <td>Tōkyō-to Setagaya-ku Taishidō</td>\n",
       "      <td>35.643675</td>\n",
       "      <td>139.668221</td>\n",
       "    </tr>\n",
       "    <tr>\n",
       "      <th>2</th>\n",
       "      <td>hpg_2976f7acb4b3a3bc</td>\n",
       "      <td>Japanese style</td>\n",
       "      <td>Tōkyō-to Setagaya-ku Taishidō</td>\n",
       "      <td>35.643675</td>\n",
       "      <td>139.668221</td>\n",
       "    </tr>\n",
       "  </tbody>\n",
       "</table>\n",
       "</div>"
      ],
      "text/plain": [
       "           hpg_store_id  hpg_genre_name                  hpg_area_name  \\\n",
       "0  hpg_6622b62385aec8bf  Japanese style  Tōkyō-to Setagaya-ku Taishidō   \n",
       "1  hpg_e9e068dd49c5fa00  Japanese style  Tōkyō-to Setagaya-ku Taishidō   \n",
       "2  hpg_2976f7acb4b3a3bc  Japanese style  Tōkyō-to Setagaya-ku Taishidō   \n",
       "\n",
       "    latitude   longitude  \n",
       "0  35.643675  139.668221  \n",
       "1  35.643675  139.668221  \n",
       "2  35.643675  139.668221  "
      ]
     },
     "execution_count": 8,
     "metadata": {},
     "output_type": "execute_result"
    }
   ],
   "source": [
    "hpg_store.head(3)\n",
    "\n",
    "#予約の情報(hpg)\n",
    "#  Store id(hpg_store_id)\n",
    "#  店舗のジャンル(air_genre_name)\n",
    "#  場所(air_area_name)\n",
    "#  緯度 (latitude)\n",
    "#  経度 (longitude)"
   ]
  },
  {
   "cell_type": "code",
   "execution_count": 9,
   "metadata": {
    "execution": {
     "iopub.execute_input": "2023-06-22T22:33:07.633825Z",
     "iopub.status.busy": "2023-06-22T22:33:07.633296Z",
     "iopub.status.idle": "2023-06-22T22:33:07.636947Z",
     "shell.execute_reply": "2023-06-22T22:33:07.636528Z",
     "shell.execute_reply.started": "2023-06-22T21:42:09.517543Z"
    },
    "papermill": {
     "duration": 0.037042,
     "end_time": "2023-06-22T22:33:07.637066",
     "exception": false,
     "start_time": "2023-06-22T22:33:07.600024",
     "status": "completed"
    },
    "tags": []
   },
   "outputs": [
    {
     "data": {
      "text/html": [
       "<div>\n",
       "<style scoped>\n",
       "    .dataframe tbody tr th:only-of-type {\n",
       "        vertical-align: middle;\n",
       "    }\n",
       "\n",
       "    .dataframe tbody tr th {\n",
       "        vertical-align: top;\n",
       "    }\n",
       "\n",
       "    .dataframe thead th {\n",
       "        text-align: right;\n",
       "    }\n",
       "</style>\n",
       "<table border=\"1\" class=\"dataframe\">\n",
       "  <thead>\n",
       "    <tr style=\"text-align: right;\">\n",
       "      <th></th>\n",
       "      <th>id</th>\n",
       "      <th>visitors</th>\n",
       "    </tr>\n",
       "  </thead>\n",
       "  <tbody>\n",
       "    <tr>\n",
       "      <th>0</th>\n",
       "      <td>air_00a91d42b08b08d9_2017-04-23</td>\n",
       "      <td>0</td>\n",
       "    </tr>\n",
       "    <tr>\n",
       "      <th>1</th>\n",
       "      <td>air_00a91d42b08b08d9_2017-04-24</td>\n",
       "      <td>0</td>\n",
       "    </tr>\n",
       "    <tr>\n",
       "      <th>2</th>\n",
       "      <td>air_00a91d42b08b08d9_2017-04-25</td>\n",
       "      <td>0</td>\n",
       "    </tr>\n",
       "  </tbody>\n",
       "</table>\n",
       "</div>"
      ],
      "text/plain": [
       "                                id  visitors\n",
       "0  air_00a91d42b08b08d9_2017-04-23         0\n",
       "1  air_00a91d42b08b08d9_2017-04-24         0\n",
       "2  air_00a91d42b08b08d9_2017-04-25         0"
      ]
     },
     "execution_count": 9,
     "metadata": {},
     "output_type": "execute_result"
    }
   ],
   "source": [
    "sample.head(3)\n",
    "\n",
    "#提出用ファイルの情報(sample)\n",
    "#  Store id 日付(id)\n",
    "#  来店者数(visitors)"
   ]
  },
  {
   "cell_type": "code",
   "execution_count": 10,
   "metadata": {
    "execution": {
     "iopub.execute_input": "2023-06-22T22:33:07.698640Z",
     "iopub.status.busy": "2023-06-22T22:33:07.697944Z",
     "iopub.status.idle": "2023-06-22T22:33:07.702021Z",
     "shell.execute_reply": "2023-06-22T22:33:07.702631Z",
     "shell.execute_reply.started": "2023-06-22T21:42:10.170437Z"
    },
    "papermill": {
     "duration": 0.039622,
     "end_time": "2023-06-22T22:33:07.702780",
     "exception": false,
     "start_time": "2023-06-22T22:33:07.663158",
     "status": "completed"
    },
    "tags": []
   },
   "outputs": [
    {
     "data": {
      "text/html": [
       "<div>\n",
       "<style scoped>\n",
       "    .dataframe tbody tr th:only-of-type {\n",
       "        vertical-align: middle;\n",
       "    }\n",
       "\n",
       "    .dataframe tbody tr th {\n",
       "        vertical-align: top;\n",
       "    }\n",
       "\n",
       "    .dataframe thead th {\n",
       "        text-align: right;\n",
       "    }\n",
       "</style>\n",
       "<table border=\"1\" class=\"dataframe\">\n",
       "  <thead>\n",
       "    <tr style=\"text-align: right;\">\n",
       "      <th></th>\n",
       "      <th>air_store_id</th>\n",
       "      <th>hpg_store_id</th>\n",
       "    </tr>\n",
       "  </thead>\n",
       "  <tbody>\n",
       "    <tr>\n",
       "      <th>0</th>\n",
       "      <td>air_63b13c56b7201bd9</td>\n",
       "      <td>hpg_4bc649e72e2a239a</td>\n",
       "    </tr>\n",
       "    <tr>\n",
       "      <th>1</th>\n",
       "      <td>air_a24bf50c3e90d583</td>\n",
       "      <td>hpg_c34b496d0305a809</td>\n",
       "    </tr>\n",
       "    <tr>\n",
       "      <th>2</th>\n",
       "      <td>air_c7f78b4f3cba33ff</td>\n",
       "      <td>hpg_cd8ae0d9bbd58ff9</td>\n",
       "    </tr>\n",
       "  </tbody>\n",
       "</table>\n",
       "</div>"
      ],
      "text/plain": [
       "           air_store_id          hpg_store_id\n",
       "0  air_63b13c56b7201bd9  hpg_4bc649e72e2a239a\n",
       "1  air_a24bf50c3e90d583  hpg_c34b496d0305a809\n",
       "2  air_c7f78b4f3cba33ff  hpg_cd8ae0d9bbd58ff9"
      ]
     },
     "execution_count": 10,
     "metadata": {},
     "output_type": "execute_result"
    }
   ],
   "source": [
    "store_id_relation.head(3)\n",
    "\n",
    "#全ストアid(air&hpg)\n",
    "#  airレストランの来店者数(air_store_id)\n",
    "#  ホットペッパーの来店者数(hpg_store_id)"
   ]
  },
  {
   "cell_type": "code",
   "execution_count": 11,
   "metadata": {
    "execution": {
     "iopub.execute_input": "2023-06-22T22:33:07.774184Z",
     "iopub.status.busy": "2023-06-22T22:33:07.773421Z",
     "iopub.status.idle": "2023-06-22T22:33:07.835762Z",
     "shell.execute_reply": "2023-06-22T22:33:07.835040Z",
     "shell.execute_reply.started": "2023-06-22T21:42:10.582288Z"
    },
    "papermill": {
     "duration": 0.099623,
     "end_time": "2023-06-22T22:33:07.835904",
     "exception": false,
     "start_time": "2023-06-22T22:33:07.736281",
     "status": "completed"
    },
    "tags": []
   },
   "outputs": [
    {
     "data": {
      "text/html": [
       "<div>\n",
       "<style scoped>\n",
       "    .dataframe tbody tr th:only-of-type {\n",
       "        vertical-align: middle;\n",
       "    }\n",
       "\n",
       "    .dataframe tbody tr th {\n",
       "        vertical-align: top;\n",
       "    }\n",
       "\n",
       "    .dataframe thead th {\n",
       "        text-align: right;\n",
       "    }\n",
       "</style>\n",
       "<table border=\"1\" class=\"dataframe\">\n",
       "  <thead>\n",
       "    <tr style=\"text-align: right;\">\n",
       "      <th></th>\n",
       "      <th>id</th>\n",
       "      <th>visitors</th>\n",
       "      <th>store_id</th>\n",
       "      <th>visit_date</th>\n",
       "    </tr>\n",
       "  </thead>\n",
       "  <tbody>\n",
       "    <tr>\n",
       "      <th>0</th>\n",
       "      <td>air_00a91d42b08b08d9_2017-04-23</td>\n",
       "      <td>0</td>\n",
       "      <td>air_00a91d42b08b08d9</td>\n",
       "      <td>2017-04-23</td>\n",
       "    </tr>\n",
       "    <tr>\n",
       "      <th>1</th>\n",
       "      <td>air_00a91d42b08b08d9_2017-04-24</td>\n",
       "      <td>0</td>\n",
       "      <td>air_00a91d42b08b08d9</td>\n",
       "      <td>2017-04-24</td>\n",
       "    </tr>\n",
       "    <tr>\n",
       "      <th>2</th>\n",
       "      <td>air_00a91d42b08b08d9_2017-04-25</td>\n",
       "      <td>0</td>\n",
       "      <td>air_00a91d42b08b08d9</td>\n",
       "      <td>2017-04-25</td>\n",
       "    </tr>\n",
       "  </tbody>\n",
       "</table>\n",
       "</div>"
      ],
      "text/plain": [
       "                                id  visitors              store_id visit_date\n",
       "0  air_00a91d42b08b08d9_2017-04-23         0  air_00a91d42b08b08d9 2017-04-23\n",
       "1  air_00a91d42b08b08d9_2017-04-24         0  air_00a91d42b08b08d9 2017-04-24\n",
       "2  air_00a91d42b08b08d9_2017-04-25         0  air_00a91d42b08b08d9 2017-04-25"
      ]
     },
     "execution_count": 11,
     "metadata": {},
     "output_type": "execute_result"
    }
   ],
   "source": [
    "# 元々のIDからstore_idとvisit_dateを切り出す(sampleのid部分に時間とidが混在していて見にくいので分ける)\n",
    "\n",
    "sample['store_id'] = sample['id'].str[:20]    # str[:20]は最初から20文字目までを取得している\n",
    "sample['visit_date'] = sample['id'].str[21:]\n",
    "\n",
    "# 日付型へ変換\n",
    "sample['visit_date'] = pd.to_datetime(sample['visit_date'])\n",
    "\n",
    "# store_idのカラム名をair_store_idに変える\n",
    "sample.rename(index = str,columns={'store_id': 'air_store_id'})\n",
    "\n",
    "# データの表示\n",
    "sample.head(3)"
   ]
  },
  {
   "cell_type": "code",
   "execution_count": 12,
   "metadata": {
    "execution": {
     "iopub.execute_input": "2023-06-22T22:33:07.907144Z",
     "iopub.status.busy": "2023-06-22T22:33:07.906454Z",
     "iopub.status.idle": "2023-06-22T22:33:08.158635Z",
     "shell.execute_reply": "2023-06-22T22:33:08.158046Z",
     "shell.execute_reply.started": "2023-06-22T21:42:11.343800Z"
    },
    "papermill": {
     "duration": 0.294292,
     "end_time": "2023-06-22T22:33:08.158749",
     "exception": false,
     "start_time": "2023-06-22T22:33:07.864457",
     "status": "completed"
    },
    "tags": []
   },
   "outputs": [
    {
     "data": {
      "text/plain": [
       "(air_store_id        0\n",
       " visit_datetime      0\n",
       " reserve_datetime    0\n",
       " reserve_visitors    0\n",
       " dtype: int64,\n",
       " air_store_id      0\n",
       " air_genre_name    0\n",
       " air_area_name     0\n",
       " latitude          0\n",
       " longitude         0\n",
       " dtype: int64,\n",
       " air_store_id    0\n",
       " visit_date      0\n",
       " visitors        0\n",
       " dtype: int64,\n",
       " calendar_date    0\n",
       " day_of_week      0\n",
       " holiday_flg      0\n",
       " dtype: int64,\n",
       " hpg_store_id        0\n",
       " visit_datetime      0\n",
       " reserve_datetime    0\n",
       " reserve_visitors    0\n",
       " dtype: int64,\n",
       " hpg_store_id      0\n",
       " hpg_genre_name    0\n",
       " hpg_area_name     0\n",
       " latitude          0\n",
       " longitude         0\n",
       " dtype: int64,\n",
       " air_store_id    0\n",
       " hpg_store_id    0\n",
       " dtype: int64)"
      ]
     },
     "execution_count": 12,
     "metadata": {},
     "output_type": "execute_result"
    }
   ],
   "source": [
    "# 欠損のチェック\n",
    "\n",
    "air_reserve.isnull().sum() , air_store.isnull().sum() , air_visit.isnull().sum() , date_info.isnull().sum() , hpg_reserve.isnull().sum() , hpg_store.isnull().sum() , store_id_relation.isnull().sum()\n",
    "\n",
    "### 欠損値0"
   ]
  },
  {
   "cell_type": "code",
   "execution_count": 13,
   "metadata": {
    "execution": {
     "iopub.execute_input": "2023-06-22T22:33:08.217886Z",
     "iopub.status.busy": "2023-06-22T22:33:08.217275Z",
     "iopub.status.idle": "2023-06-22T22:33:08.483368Z",
     "shell.execute_reply": "2023-06-22T22:33:08.482729Z",
     "shell.execute_reply.started": "2023-06-22T21:42:12.885555Z"
    },
    "papermill": {
     "duration": 0.296869,
     "end_time": "2023-06-22T22:33:08.483501",
     "exception": false,
     "start_time": "2023-06-22T22:33:08.186632",
     "status": "completed"
    },
    "tags": []
   },
   "outputs": [
    {
     "data": {
      "text/plain": [
       "Text(0.5, 1.0, 'Visitor and Reservations')"
      ]
     },
     "execution_count": 13,
     "metadata": {},
     "output_type": "execute_result"
    },
    {
     "data": {
      "image/png": "[encoded data removed]",
      "text/plain": [
       "<Figure size 1080x576 with 1 Axes>"
      ]
     },
     "metadata": {
      "needs_background": "light"
     },
     "output_type": "display_data"
    }
   ],
   "source": [
    "# 来店者数と予約者数を可視化\n",
    "\n",
    "f,ax = plt.subplots(1,1,figsize=(15,8))\n",
    "plt1 = air_visit.groupby(['visit_date'], as_index=False).agg({'visitors': np.sum})\n",
    "plt1=plt1.set_index('visit_date')\n",
    "plt1.plot(color='salmon', kind='area', ax=ax)\n",
    "plt.ylabel(\"Sum of Visitors\")\n",
    "plt.title(\"Visitor and Reservations\")"
   ]
  },
  {
   "cell_type": "markdown",
   "metadata": {
    "papermill": {
     "duration": 0.028561,
     "end_time": "2023-06-22T22:33:08.541724",
     "exception": false,
     "start_time": "2023-06-22T22:33:08.513163",
     "status": "completed"
    },
    "tags": []
   },
   "source": [
    "## 上の図から2016-07から来店者数が上がったことが読み取れる"
   ]
  },
  {
   "cell_type": "markdown",
   "metadata": {
    "papermill": {
     "duration": 0.028527,
     "end_time": "2023-06-22T22:33:08.599628",
     "exception": false,
     "start_time": "2023-06-22T22:33:08.571101",
     "status": "completed"
    },
    "tags": []
   },
   "source": [
    "## なぜか？"
   ]
  },
  {
   "cell_type": "markdown",
   "metadata": {
    "papermill": {
     "duration": 0.028625,
     "end_time": "2023-06-22T22:33:08.657471",
     "exception": false,
     "start_time": "2023-06-22T22:33:08.628846",
     "status": "completed"
    },
    "tags": []
   },
   "source": [
    "# 要因予想：2016年の世界経済を見たときに、2016年前半は世界経済と国際金融市場が大きく動揺し,日本経済と東京市場も例外ではなく、円高・株安になっていた。\n",
    "# 以上から、1年間のデータしか手元にはないが、毎年前半が来店者数が落ち込むわけではなく、突発的な出来事であり、2016年においては7月以降のデータが例年の来店者数であると推定できる"
   ]
  },
  {
   "cell_type": "code",
   "execution_count": 14,
   "metadata": {
    "execution": {
     "iopub.execute_input": "2023-06-22T22:33:08.727426Z",
     "iopub.status.busy": "2023-06-22T22:33:08.726815Z",
     "iopub.status.idle": "2023-06-22T22:33:08.914552Z",
     "shell.execute_reply": "2023-06-22T22:33:08.915053Z",
     "shell.execute_reply.started": "2023-06-22T21:42:16.241225Z"
    },
    "papermill": {
     "duration": 0.228028,
     "end_time": "2023-06-22T22:33:08.915181",
     "exception": false,
     "start_time": "2023-06-22T22:33:08.687153",
     "status": "completed"
    },
    "tags": []
   },
   "outputs": [
    {
     "data": {
      "text/plain": [
       "Text(0, 0.5, 'reserve_visitors')"
      ]
     },
     "execution_count": 14,
     "metadata": {},
     "output_type": "execute_result"
    },
    {
     "data": {
      "image/png": "[encoded data removed]",
      "text/plain": [
       "<Figure size 432x288 with 1 Axes>"
      ]
     },
     "metadata": {
      "needs_background": "light"
     },
     "output_type": "display_data"
    }
   ],
   "source": [
    "# 来店者数と予約者数を24時間の時間で可視化\n",
    "\n",
    "air_reserve['visit_hour'] = pd.to_datetime(air_reserve['visit_datetime']).dt.hour    # datetimeからdt.hourで時間だけ取り出して行列化する\n",
    "air_reserve.groupby('visit_hour')['reserve_visitors'].sum().plot.bar(rot=0)    # pandasのメソッドの一つで、groupby()で指定した列でグルーピングする\n",
    "plt.title(\"visit_hour & reserve_visitors\")\n",
    "plt.xlabel(\"visit_hour\")\n",
    "plt.ylabel(\"reserve_visitors\")"
   ]
  },
  {
   "cell_type": "markdown",
   "metadata": {
    "papermill": {
     "duration": 0.029308,
     "end_time": "2023-06-22T22:33:08.974524",
     "exception": false,
     "start_time": "2023-06-22T22:33:08.945216",
     "status": "completed"
    },
    "tags": []
   },
   "source": [
    "\n",
    "\n",
    "## 下図から17:00-21:00の間に来店者数が多くなっていることが分かる"
   ]
  },
  {
   "cell_type": "code",
   "execution_count": 15,
   "metadata": {
    "execution": {
     "iopub.execute_input": "2023-06-22T22:33:09.037492Z",
     "iopub.status.busy": "2023-06-22T22:33:09.036944Z",
     "iopub.status.idle": "2023-06-22T22:33:09.264495Z",
     "shell.execute_reply": "2023-06-22T22:33:09.263915Z",
     "shell.execute_reply.started": "2023-06-22T21:42:18.328451Z"
    },
    "papermill": {
     "duration": 0.26012,
     "end_time": "2023-06-22T22:33:09.264598",
     "exception": false,
     "start_time": "2023-06-22T22:33:09.004478",
     "status": "completed"
    },
    "tags": []
   },
   "outputs": [
    {
     "data": {
      "text/plain": [
       "<matplotlib.axes._subplots.AxesSubplot at 0x7f48db18d390>"
      ]
     },
     "execution_count": 15,
     "metadata": {},
     "output_type": "execute_result"
    },
    {
     "data": {
      "image/png": "[encoded data removed]",
      "text/plain": [
       "<Figure size 432x288 with 1 Axes>"
      ]
     },
     "metadata": {
      "needs_background": "light"
     },
     "output_type": "display_data"
    }
   ],
   "source": [
    "# 店のジャンルを可視化\n",
    "\n",
    "air_store.air_genre_name.value_counts().sort_values().plot(kind='barh')"
   ]
  },
  {
   "cell_type": "markdown",
   "metadata": {
    "papermill": {
     "duration": 0.031161,
     "end_time": "2023-06-22T22:33:09.326743",
     "exception": false,
     "start_time": "2023-06-22T22:33:09.295582",
     "status": "completed"
    },
    "tags": []
   },
   "source": [
    "## 先ほど述べた、世界経済の落ち込みによる影響を受けやすい居酒屋やバーが上位に来ている"
   ]
  },
  {
   "cell_type": "code",
   "execution_count": 16,
   "metadata": {
    "execution": {
     "iopub.execute_input": "2023-06-22T22:33:09.402368Z",
     "iopub.status.busy": "2023-06-22T22:33:09.401737Z",
     "iopub.status.idle": "2023-06-22T22:33:11.383161Z",
     "shell.execute_reply": "2023-06-22T22:33:11.382618Z",
     "shell.execute_reply.started": "2023-06-22T21:42:20.628485Z"
    },
    "papermill": {
     "duration": 2.025417,
     "end_time": "2023-06-22T22:33:11.383276",
     "exception": false,
     "start_time": "2023-06-22T22:33:09.357859",
     "status": "completed"
    },
    "tags": []
   },
   "outputs": [
    {
     "name": "stdout",
     "output_type": "stream",
     "text": [
      "airのレストランが  92378  店舗、 ホットペッパーのレストランが  871308  店舗で、そのうち 150  店舗が両方使っている。\n"
     ]
    }
   ],
   "source": [
    "# 予約システムの偏り調査\n",
    "\n",
    "air = pd.merge(air_reserve,air_store,on='air_store_id')    # pd.merge()関数では第一引数(air_reserve)と第二引数(air_store)に2つを結合するpandas.DataFrame\n",
    "hpg = pd.merge(hpg_reserve,hpg_store,on='hpg_store_id')    # pandas.DataFrameを縦横に連結するにはpandas.concat()関数\n",
    "airrel = pd.merge(air,store_id_relation,how='left',on='air_store_id')    # leftなので左から結合\n",
    "hpgrel = pd.merge(hpg,store_id_relation,how='left',on='hpg_store_id')\n",
    "full = pd.merge(airrel,hpgrel,how='outer')\n",
    "print(\"airのレストランが \",len(air),\" 店舗、 ホットペッパーのレストランが \",len(hpg),\" 店舗で、そのうち\",len(store_id_relation),' 店舗が両方使っている。')"
   ]
  },
  {
   "cell_type": "markdown",
   "metadata": {
    "papermill": {
     "duration": 0.031268,
     "end_time": "2023-06-22T22:33:11.446477",
     "exception": false,
     "start_time": "2023-06-22T22:33:11.415209",
     "status": "completed"
    },
    "tags": []
   },
   "source": [
    "## 予約システムはホットペッパーに偏りがあると得られた"
   ]
  },
  {
   "cell_type": "code",
   "execution_count": 17,
   "metadata": {
    "execution": {
     "iopub.execute_input": "2023-06-22T22:33:11.516866Z",
     "iopub.status.busy": "2023-06-22T22:33:11.516275Z",
     "iopub.status.idle": "2023-06-22T22:33:11.533518Z",
     "shell.execute_reply": "2023-06-22T22:33:11.533961Z",
     "shell.execute_reply.started": "2023-06-22T21:42:29.721688Z"
    },
    "papermill": {
     "duration": 0.055366,
     "end_time": "2023-06-22T22:33:11.534129",
     "exception": false,
     "start_time": "2023-06-22T22:33:11.478763",
     "status": "completed"
    },
    "tags": []
   },
   "outputs": [
    {
     "data": {
      "text/html": [
       "<div>\n",
       "<style scoped>\n",
       "    .dataframe tbody tr th:only-of-type {\n",
       "        vertical-align: middle;\n",
       "    }\n",
       "\n",
       "    .dataframe tbody tr th {\n",
       "        vertical-align: top;\n",
       "    }\n",
       "\n",
       "    .dataframe thead th {\n",
       "        text-align: right;\n",
       "    }\n",
       "</style>\n",
       "<table border=\"1\" class=\"dataframe\">\n",
       "  <thead>\n",
       "    <tr style=\"text-align: right;\">\n",
       "      <th></th>\n",
       "      <th>air_store_id</th>\n",
       "      <th>air_genre_name</th>\n",
       "      <th>air_area_name</th>\n",
       "      <th>latitude</th>\n",
       "      <th>longitude</th>\n",
       "      <th>air_genre_name_Asian</th>\n",
       "      <th>air_genre_name_Bar/Cocktail</th>\n",
       "      <th>air_genre_name_Cafe/Sweets</th>\n",
       "      <th>air_genre_name_Creative cuisine</th>\n",
       "      <th>air_genre_name_Dining bar</th>\n",
       "      <th>air_genre_name_International cuisine</th>\n",
       "      <th>air_genre_name_Italian/French</th>\n",
       "      <th>air_genre_name_Izakaya</th>\n",
       "      <th>air_genre_name_Japanese food</th>\n",
       "      <th>air_genre_name_Karaoke/Party</th>\n",
       "      <th>air_genre_name_Okonomiyaki/Monja/Teppanyaki</th>\n",
       "      <th>air_genre_name_Other</th>\n",
       "      <th>air_genre_name_Western food</th>\n",
       "      <th>air_genre_name_Yakiniku/Korean food</th>\n",
       "    </tr>\n",
       "  </thead>\n",
       "  <tbody>\n",
       "    <tr>\n",
       "      <th>0</th>\n",
       "      <td>air_0f0cdeee6c9bf3d7</td>\n",
       "      <td>Italian/French</td>\n",
       "      <td>Hyōgo-ken Kōbe-shi Kumoidōri</td>\n",
       "      <td>34.695124</td>\n",
       "      <td>135.197852</td>\n",
       "      <td>0</td>\n",
       "      <td>0</td>\n",
       "      <td>0</td>\n",
       "      <td>0</td>\n",
       "      <td>0</td>\n",
       "      <td>0</td>\n",
       "      <td>1</td>\n",
       "      <td>0</td>\n",
       "      <td>0</td>\n",
       "      <td>0</td>\n",
       "      <td>0</td>\n",
       "      <td>0</td>\n",
       "      <td>0</td>\n",
       "      <td>0</td>\n",
       "    </tr>\n",
       "    <tr>\n",
       "      <th>1</th>\n",
       "      <td>air_7cc17a324ae5c7dc</td>\n",
       "      <td>Italian/French</td>\n",
       "      <td>Hyōgo-ken Kōbe-shi Kumoidōri</td>\n",
       "      <td>34.695124</td>\n",
       "      <td>135.197852</td>\n",
       "      <td>0</td>\n",
       "      <td>0</td>\n",
       "      <td>0</td>\n",
       "      <td>0</td>\n",
       "      <td>0</td>\n",
       "      <td>0</td>\n",
       "      <td>1</td>\n",
       "      <td>0</td>\n",
       "      <td>0</td>\n",
       "      <td>0</td>\n",
       "      <td>0</td>\n",
       "      <td>0</td>\n",
       "      <td>0</td>\n",
       "      <td>0</td>\n",
       "    </tr>\n",
       "    <tr>\n",
       "      <th>2</th>\n",
       "      <td>air_fee8dcf4d619598e</td>\n",
       "      <td>Italian/French</td>\n",
       "      <td>Hyōgo-ken Kōbe-shi Kumoidōri</td>\n",
       "      <td>34.695124</td>\n",
       "      <td>135.197852</td>\n",
       "      <td>0</td>\n",
       "      <td>0</td>\n",
       "      <td>0</td>\n",
       "      <td>0</td>\n",
       "      <td>0</td>\n",
       "      <td>0</td>\n",
       "      <td>1</td>\n",
       "      <td>0</td>\n",
       "      <td>0</td>\n",
       "      <td>0</td>\n",
       "      <td>0</td>\n",
       "      <td>0</td>\n",
       "      <td>0</td>\n",
       "      <td>0</td>\n",
       "    </tr>\n",
       "  </tbody>\n",
       "</table>\n",
       "</div>"
      ],
      "text/plain": [
       "           air_store_id  air_genre_name                 air_area_name  \\\n",
       "0  air_0f0cdeee6c9bf3d7  Italian/French  Hyōgo-ken Kōbe-shi Kumoidōri   \n",
       "1  air_7cc17a324ae5c7dc  Italian/French  Hyōgo-ken Kōbe-shi Kumoidōri   \n",
       "2  air_fee8dcf4d619598e  Italian/French  Hyōgo-ken Kōbe-shi Kumoidōri   \n",
       "\n",
       "    latitude   longitude  air_genre_name_Asian  air_genre_name_Bar/Cocktail  \\\n",
       "0  34.695124  135.197852                     0                            0   \n",
       "1  34.695124  135.197852                     0                            0   \n",
       "2  34.695124  135.197852                     0                            0   \n",
       "\n",
       "   air_genre_name_Cafe/Sweets  air_genre_name_Creative cuisine  \\\n",
       "0                           0                                0   \n",
       "1                           0                                0   \n",
       "2                           0                                0   \n",
       "\n",
       "   air_genre_name_Dining bar  air_genre_name_International cuisine  \\\n",
       "0                          0                                     0   \n",
       "1                          0                                     0   \n",
       "2                          0                                     0   \n",
       "\n",
       "   air_genre_name_Italian/French  air_genre_name_Izakaya  \\\n",
       "0                              1                       0   \n",
       "1                              1                       0   \n",
       "2                              1                       0   \n",
       "\n",
       "   air_genre_name_Japanese food  air_genre_name_Karaoke/Party  \\\n",
       "0                             0                             0   \n",
       "1                             0                             0   \n",
       "2                             0                             0   \n",
       "\n",
       "   air_genre_name_Okonomiyaki/Monja/Teppanyaki  air_genre_name_Other  \\\n",
       "0                                            0                     0   \n",
       "1                                            0                     0   \n",
       "2                                            0                     0   \n",
       "\n",
       "   air_genre_name_Western food  air_genre_name_Yakiniku/Korean food  \n",
       "0                            0                                    0  \n",
       "1                            0                                    0  \n",
       "2                            0                                    0  "
      ]
     },
     "execution_count": 17,
     "metadata": {},
     "output_type": "execute_result"
    }
   ],
   "source": [
    "# 店のジャンルををダミー変数化する\n",
    "air_store = pd.concat([air_store, pd.get_dummies(air_store['air_genre_name'], prefix = 'air_genre_name')], axis=1)\n",
    "air_store.head(3)"
   ]
  },
  {
   "cell_type": "code",
   "execution_count": 18,
   "metadata": {
    "execution": {
     "iopub.execute_input": "2023-06-22T22:33:11.612527Z",
     "iopub.status.busy": "2023-06-22T22:33:11.611898Z",
     "iopub.status.idle": "2023-06-22T22:33:11.617577Z",
     "shell.execute_reply": "2023-06-22T22:33:11.616696Z",
     "shell.execute_reply.started": "2023-06-22T21:42:33.359125Z"
    },
    "papermill": {
     "duration": 0.051233,
     "end_time": "2023-06-22T22:33:11.617699",
     "exception": false,
     "start_time": "2023-06-22T22:33:11.566466",
     "status": "completed"
    },
    "tags": []
   },
   "outputs": [
    {
     "data": {
      "text/html": [
       "<div>\n",
       "<style scoped>\n",
       "    .dataframe tbody tr th:only-of-type {\n",
       "        vertical-align: middle;\n",
       "    }\n",
       "\n",
       "    .dataframe tbody tr th {\n",
       "        vertical-align: top;\n",
       "    }\n",
       "\n",
       "    .dataframe thead th {\n",
       "        text-align: right;\n",
       "    }\n",
       "</style>\n",
       "<table border=\"1\" class=\"dataframe\">\n",
       "  <thead>\n",
       "    <tr style=\"text-align: right;\">\n",
       "      <th></th>\n",
       "      <th>calendar_date</th>\n",
       "      <th>day_of_week</th>\n",
       "      <th>holiday_flg</th>\n",
       "    </tr>\n",
       "  </thead>\n",
       "  <tbody>\n",
       "    <tr>\n",
       "      <th>0</th>\n",
       "      <td>2016-01-01</td>\n",
       "      <td>Friday</td>\n",
       "      <td>1</td>\n",
       "    </tr>\n",
       "    <tr>\n",
       "      <th>1</th>\n",
       "      <td>2016-01-02</td>\n",
       "      <td>Saturday</td>\n",
       "      <td>1</td>\n",
       "    </tr>\n",
       "    <tr>\n",
       "      <th>2</th>\n",
       "      <td>2016-01-03</td>\n",
       "      <td>Sunday</td>\n",
       "      <td>1</td>\n",
       "    </tr>\n",
       "    <tr>\n",
       "      <th>10</th>\n",
       "      <td>2016-01-11</td>\n",
       "      <td>Monday</td>\n",
       "      <td>1</td>\n",
       "    </tr>\n",
       "    <tr>\n",
       "      <th>41</th>\n",
       "      <td>2016-02-11</td>\n",
       "      <td>Thursday</td>\n",
       "      <td>1</td>\n",
       "    </tr>\n",
       "    <tr>\n",
       "      <th>79</th>\n",
       "      <td>2016-03-20</td>\n",
       "      <td>Sunday</td>\n",
       "      <td>1</td>\n",
       "    </tr>\n",
       "    <tr>\n",
       "      <th>80</th>\n",
       "      <td>2016-03-21</td>\n",
       "      <td>Monday</td>\n",
       "      <td>1</td>\n",
       "    </tr>\n",
       "    <tr>\n",
       "      <th>119</th>\n",
       "      <td>2016-04-29</td>\n",
       "      <td>Friday</td>\n",
       "      <td>1</td>\n",
       "    </tr>\n",
       "    <tr>\n",
       "      <th>123</th>\n",
       "      <td>2016-05-03</td>\n",
       "      <td>Tuesday</td>\n",
       "      <td>1</td>\n",
       "    </tr>\n",
       "    <tr>\n",
       "      <th>124</th>\n",
       "      <td>2016-05-04</td>\n",
       "      <td>Wednesday</td>\n",
       "      <td>1</td>\n",
       "    </tr>\n",
       "    <tr>\n",
       "      <th>125</th>\n",
       "      <td>2016-05-05</td>\n",
       "      <td>Thursday</td>\n",
       "      <td>1</td>\n",
       "    </tr>\n",
       "    <tr>\n",
       "      <th>199</th>\n",
       "      <td>2016-07-18</td>\n",
       "      <td>Monday</td>\n",
       "      <td>1</td>\n",
       "    </tr>\n",
       "    <tr>\n",
       "      <th>223</th>\n",
       "      <td>2016-08-11</td>\n",
       "      <td>Thursday</td>\n",
       "      <td>1</td>\n",
       "    </tr>\n",
       "    <tr>\n",
       "      <th>225</th>\n",
       "      <td>2016-08-13</td>\n",
       "      <td>Saturday</td>\n",
       "      <td>1</td>\n",
       "    </tr>\n",
       "    <tr>\n",
       "      <th>226</th>\n",
       "      <td>2016-08-14</td>\n",
       "      <td>Sunday</td>\n",
       "      <td>1</td>\n",
       "    </tr>\n",
       "    <tr>\n",
       "      <th>227</th>\n",
       "      <td>2016-08-15</td>\n",
       "      <td>Monday</td>\n",
       "      <td>1</td>\n",
       "    </tr>\n",
       "    <tr>\n",
       "      <th>262</th>\n",
       "      <td>2016-09-19</td>\n",
       "      <td>Monday</td>\n",
       "      <td>1</td>\n",
       "    </tr>\n",
       "    <tr>\n",
       "      <th>265</th>\n",
       "      <td>2016-09-22</td>\n",
       "      <td>Thursday</td>\n",
       "      <td>1</td>\n",
       "    </tr>\n",
       "    <tr>\n",
       "      <th>283</th>\n",
       "      <td>2016-10-10</td>\n",
       "      <td>Monday</td>\n",
       "      <td>1</td>\n",
       "    </tr>\n",
       "    <tr>\n",
       "      <th>307</th>\n",
       "      <td>2016-11-03</td>\n",
       "      <td>Thursday</td>\n",
       "      <td>1</td>\n",
       "    </tr>\n",
       "    <tr>\n",
       "      <th>327</th>\n",
       "      <td>2016-11-23</td>\n",
       "      <td>Wednesday</td>\n",
       "      <td>1</td>\n",
       "    </tr>\n",
       "    <tr>\n",
       "      <th>357</th>\n",
       "      <td>2016-12-23</td>\n",
       "      <td>Friday</td>\n",
       "      <td>1</td>\n",
       "    </tr>\n",
       "    <tr>\n",
       "      <th>363</th>\n",
       "      <td>2016-12-29</td>\n",
       "      <td>Thursday</td>\n",
       "      <td>1</td>\n",
       "    </tr>\n",
       "    <tr>\n",
       "      <th>364</th>\n",
       "      <td>2016-12-30</td>\n",
       "      <td>Friday</td>\n",
       "      <td>1</td>\n",
       "    </tr>\n",
       "    <tr>\n",
       "      <th>365</th>\n",
       "      <td>2016-12-31</td>\n",
       "      <td>Saturday</td>\n",
       "      <td>1</td>\n",
       "    </tr>\n",
       "    <tr>\n",
       "      <th>366</th>\n",
       "      <td>2017-01-01</td>\n",
       "      <td>Sunday</td>\n",
       "      <td>1</td>\n",
       "    </tr>\n",
       "    <tr>\n",
       "      <th>367</th>\n",
       "      <td>2017-01-02</td>\n",
       "      <td>Monday</td>\n",
       "      <td>1</td>\n",
       "    </tr>\n",
       "    <tr>\n",
       "      <th>368</th>\n",
       "      <td>2017-01-03</td>\n",
       "      <td>Tuesday</td>\n",
       "      <td>1</td>\n",
       "    </tr>\n",
       "    <tr>\n",
       "      <th>374</th>\n",
       "      <td>2017-01-09</td>\n",
       "      <td>Monday</td>\n",
       "      <td>1</td>\n",
       "    </tr>\n",
       "    <tr>\n",
       "      <th>407</th>\n",
       "      <td>2017-02-11</td>\n",
       "      <td>Saturday</td>\n",
       "      <td>1</td>\n",
       "    </tr>\n",
       "    <tr>\n",
       "      <th>444</th>\n",
       "      <td>2017-03-20</td>\n",
       "      <td>Monday</td>\n",
       "      <td>1</td>\n",
       "    </tr>\n",
       "    <tr>\n",
       "      <th>484</th>\n",
       "      <td>2017-04-29</td>\n",
       "      <td>Saturday</td>\n",
       "      <td>1</td>\n",
       "    </tr>\n",
       "    <tr>\n",
       "      <th>488</th>\n",
       "      <td>2017-05-03</td>\n",
       "      <td>Wednesday</td>\n",
       "      <td>1</td>\n",
       "    </tr>\n",
       "    <tr>\n",
       "      <th>489</th>\n",
       "      <td>2017-05-04</td>\n",
       "      <td>Thursday</td>\n",
       "      <td>1</td>\n",
       "    </tr>\n",
       "    <tr>\n",
       "      <th>490</th>\n",
       "      <td>2017-05-05</td>\n",
       "      <td>Friday</td>\n",
       "      <td>1</td>\n",
       "    </tr>\n",
       "  </tbody>\n",
       "</table>\n",
       "</div>"
      ],
      "text/plain": [
       "    calendar_date day_of_week  holiday_flg\n",
       "0      2016-01-01      Friday            1\n",
       "1      2016-01-02    Saturday            1\n",
       "2      2016-01-03      Sunday            1\n",
       "10     2016-01-11      Monday            1\n",
       "41     2016-02-11    Thursday            1\n",
       "79     2016-03-20      Sunday            1\n",
       "80     2016-03-21      Monday            1\n",
       "119    2016-04-29      Friday            1\n",
       "123    2016-05-03     Tuesday            1\n",
       "124    2016-05-04   Wednesday            1\n",
       "125    2016-05-05    Thursday            1\n",
       "199    2016-07-18      Monday            1\n",
       "223    2016-08-11    Thursday            1\n",
       "225    2016-08-13    Saturday            1\n",
       "226    2016-08-14      Sunday            1\n",
       "227    2016-08-15      Monday            1\n",
       "262    2016-09-19      Monday            1\n",
       "265    2016-09-22    Thursday            1\n",
       "283    2016-10-10      Monday            1\n",
       "307    2016-11-03    Thursday            1\n",
       "327    2016-11-23   Wednesday            1\n",
       "357    2016-12-23      Friday            1\n",
       "363    2016-12-29    Thursday            1\n",
       "364    2016-12-30      Friday            1\n",
       "365    2016-12-31    Saturday            1\n",
       "366    2017-01-01      Sunday            1\n",
       "367    2017-01-02      Monday            1\n",
       "368    2017-01-03     Tuesday            1\n",
       "374    2017-01-09      Monday            1\n",
       "407    2017-02-11    Saturday            1\n",
       "444    2017-03-20      Monday            1\n",
       "484    2017-04-29    Saturday            1\n",
       "488    2017-05-03   Wednesday            1\n",
       "489    2017-05-04    Thursday            1\n",
       "490    2017-05-05      Friday            1"
      ]
     },
     "execution_count": 18,
     "metadata": {},
     "output_type": "execute_result"
    }
   ],
   "source": [
    "# 休日\n",
    "\n",
    "date_info.loc[date_info.holiday_flg==1]"
   ]
  },
  {
   "cell_type": "code",
   "execution_count": 19,
   "metadata": {
    "execution": {
     "iopub.execute_input": "2023-06-22T22:33:11.685193Z",
     "iopub.status.busy": "2023-06-22T22:33:11.684581Z",
     "iopub.status.idle": "2023-06-22T22:33:16.670353Z",
     "shell.execute_reply": "2023-06-22T22:33:16.669713Z",
     "shell.execute_reply.started": "2023-06-22T21:42:34.363370Z"
    },
    "papermill": {
     "duration": 5.020307,
     "end_time": "2023-06-22T22:33:16.670501",
     "exception": false,
     "start_time": "2023-06-22T22:33:11.650194",
     "status": "completed"
    },
    "tags": []
   },
   "outputs": [
    {
     "data": {
      "text/html": [
       "<div>\n",
       "<style scoped>\n",
       "    .dataframe tbody tr th:only-of-type {\n",
       "        vertical-align: middle;\n",
       "    }\n",
       "\n",
       "    .dataframe tbody tr th {\n",
       "        vertical-align: top;\n",
       "    }\n",
       "\n",
       "    .dataframe thead th {\n",
       "        text-align: right;\n",
       "    }\n",
       "</style>\n",
       "<table border=\"1\" class=\"dataframe\">\n",
       "  <thead>\n",
       "    <tr style=\"text-align: right;\">\n",
       "      <th></th>\n",
       "      <th>air_store_id</th>\n",
       "      <th>visit_datetime</th>\n",
       "      <th>reserve_datetime</th>\n",
       "      <th>reserve_visitors</th>\n",
       "      <th>visit_hour</th>\n",
       "      <th>hpg_store_id</th>\n",
       "      <th>air_genre_name</th>\n",
       "      <th>air_area_name</th>\n",
       "      <th>latitude</th>\n",
       "      <th>longitude</th>\n",
       "      <th>...</th>\n",
       "      <th>air_genre_name_Italian/French</th>\n",
       "      <th>air_genre_name_Izakaya</th>\n",
       "      <th>air_genre_name_Japanese food</th>\n",
       "      <th>air_genre_name_Karaoke/Party</th>\n",
       "      <th>air_genre_name_Okonomiyaki/Monja/Teppanyaki</th>\n",
       "      <th>air_genre_name_Other</th>\n",
       "      <th>air_genre_name_Western food</th>\n",
       "      <th>air_genre_name_Yakiniku/Korean food</th>\n",
       "      <th>visit_date</th>\n",
       "      <th>visitors</th>\n",
       "    </tr>\n",
       "  </thead>\n",
       "  <tbody>\n",
       "    <tr>\n",
       "      <th>8290624</th>\n",
       "      <td>air_3e93f3c81008696d</td>\n",
       "      <td>2017-04-15 21:00:00</td>\n",
       "      <td>2017-04-14 22:00:00</td>\n",
       "      <td>3</td>\n",
       "      <td>21</td>\n",
       "      <td>hpg_c2a8494d55fafbd6</td>\n",
       "      <td>Okonomiyaki/Monja/Teppanyaki</td>\n",
       "      <td>Hiroshima-ken Hiroshima-shi Kokutaijimachi</td>\n",
       "      <td>34.386245</td>\n",
       "      <td>132.455018</td>\n",
       "      <td>...</td>\n",
       "      <td>0</td>\n",
       "      <td>0</td>\n",
       "      <td>0</td>\n",
       "      <td>0</td>\n",
       "      <td>1</td>\n",
       "      <td>0</td>\n",
       "      <td>0</td>\n",
       "      <td>0</td>\n",
       "      <td>2017-03-24</td>\n",
       "      <td>42</td>\n",
       "    </tr>\n",
       "    <tr>\n",
       "      <th>5216712</th>\n",
       "      <td>air_9241121af22ff1d6</td>\n",
       "      <td>2016-04-30 19:00:00</td>\n",
       "      <td>2016-04-28 21:00:00</td>\n",
       "      <td>2</td>\n",
       "      <td>19</td>\n",
       "      <td>hpg_49dbe1fd79450e55</td>\n",
       "      <td>Izakaya</td>\n",
       "      <td>Tōkyō-to Katsushika-ku Tateishi</td>\n",
       "      <td>35.743575</td>\n",
       "      <td>139.847180</td>\n",
       "      <td>...</td>\n",
       "      <td>0</td>\n",
       "      <td>1</td>\n",
       "      <td>0</td>\n",
       "      <td>0</td>\n",
       "      <td>0</td>\n",
       "      <td>0</td>\n",
       "      <td>0</td>\n",
       "      <td>0</td>\n",
       "      <td>2016-04-21</td>\n",
       "      <td>14</td>\n",
       "    </tr>\n",
       "    <tr>\n",
       "      <th>4454362</th>\n",
       "      <td>air_32460819c7600037</td>\n",
       "      <td>2016-04-20 19:00:00</td>\n",
       "      <td>2016-04-13 22:00:00</td>\n",
       "      <td>4</td>\n",
       "      <td>19</td>\n",
       "      <td>hpg_ac318be70910278f</td>\n",
       "      <td>Dining bar</td>\n",
       "      <td>Ōsaka-fu Ōsaka-shi Shinmachi</td>\n",
       "      <td>34.676231</td>\n",
       "      <td>135.486059</td>\n",
       "      <td>...</td>\n",
       "      <td>0</td>\n",
       "      <td>0</td>\n",
       "      <td>0</td>\n",
       "      <td>0</td>\n",
       "      <td>0</td>\n",
       "      <td>0</td>\n",
       "      <td>0</td>\n",
       "      <td>0</td>\n",
       "      <td>2016-02-17</td>\n",
       "      <td>31</td>\n",
       "    </tr>\n",
       "    <tr>\n",
       "      <th>4436114</th>\n",
       "      <td>air_32460819c7600037</td>\n",
       "      <td>2016-02-15 19:00:00</td>\n",
       "      <td>2016-02-15 19:00:00</td>\n",
       "      <td>3</td>\n",
       "      <td>19</td>\n",
       "      <td>hpg_ac318be70910278f</td>\n",
       "      <td>Dining bar</td>\n",
       "      <td>Ōsaka-fu Ōsaka-shi Shinmachi</td>\n",
       "      <td>34.676231</td>\n",
       "      <td>135.486059</td>\n",
       "      <td>...</td>\n",
       "      <td>0</td>\n",
       "      <td>0</td>\n",
       "      <td>0</td>\n",
       "      <td>0</td>\n",
       "      <td>0</td>\n",
       "      <td>0</td>\n",
       "      <td>0</td>\n",
       "      <td>0</td>\n",
       "      <td>2016-10-05</td>\n",
       "      <td>57</td>\n",
       "    </tr>\n",
       "    <tr>\n",
       "      <th>9988257</th>\n",
       "      <td>air_f8233ad00755c35c</td>\n",
       "      <td>2016-12-26 20:00:00</td>\n",
       "      <td>2016-12-26 15:00:00</td>\n",
       "      <td>4</td>\n",
       "      <td>20</td>\n",
       "      <td>hpg_098e4dd30e54fee6</td>\n",
       "      <td>Italian/French</td>\n",
       "      <td>Tōkyō-to Shibuya-ku Shibuya</td>\n",
       "      <td>35.661777</td>\n",
       "      <td>139.704051</td>\n",
       "      <td>...</td>\n",
       "      <td>1</td>\n",
       "      <td>0</td>\n",
       "      <td>0</td>\n",
       "      <td>0</td>\n",
       "      <td>0</td>\n",
       "      <td>0</td>\n",
       "      <td>0</td>\n",
       "      <td>0</td>\n",
       "      <td>2016-08-29</td>\n",
       "      <td>37</td>\n",
       "    </tr>\n",
       "    <tr>\n",
       "      <th>...</th>\n",
       "      <td>...</td>\n",
       "      <td>...</td>\n",
       "      <td>...</td>\n",
       "      <td>...</td>\n",
       "      <td>...</td>\n",
       "      <td>...</td>\n",
       "      <td>...</td>\n",
       "      <td>...</td>\n",
       "      <td>...</td>\n",
       "      <td>...</td>\n",
       "      <td>...</td>\n",
       "      <td>...</td>\n",
       "      <td>...</td>\n",
       "      <td>...</td>\n",
       "      <td>...</td>\n",
       "      <td>...</td>\n",
       "      <td>...</td>\n",
       "      <td>...</td>\n",
       "      <td>...</td>\n",
       "      <td>...</td>\n",
       "      <td>...</td>\n",
       "    </tr>\n",
       "    <tr>\n",
       "      <th>2555730</th>\n",
       "      <td>air_2cee51fa6fdf6c0d</td>\n",
       "      <td>2017-01-28 21:00:00</td>\n",
       "      <td>2017-01-28 02:00:00</td>\n",
       "      <td>2</td>\n",
       "      <td>21</td>\n",
       "      <td>hpg_113fd6e4fa77800f</td>\n",
       "      <td>Western food</td>\n",
       "      <td>Tōkyō-to Shibuya-ku Shibuya</td>\n",
       "      <td>35.661777</td>\n",
       "      <td>139.704051</td>\n",
       "      <td>...</td>\n",
       "      <td>0</td>\n",
       "      <td>0</td>\n",
       "      <td>0</td>\n",
       "      <td>0</td>\n",
       "      <td>0</td>\n",
       "      <td>0</td>\n",
       "      <td>1</td>\n",
       "      <td>0</td>\n",
       "      <td>2016-07-10</td>\n",
       "      <td>45</td>\n",
       "    </tr>\n",
       "    <tr>\n",
       "      <th>10319335</th>\n",
       "      <td>air_bb09595bab7d5cfb</td>\n",
       "      <td>2017-04-22 18:00:00</td>\n",
       "      <td>2017-04-19 17:00:00</td>\n",
       "      <td>3</td>\n",
       "      <td>18</td>\n",
       "      <td>hpg_aea428a1075052bf</td>\n",
       "      <td>Izakaya</td>\n",
       "      <td>Niigata-ken Niigata-shi Teraohigashi</td>\n",
       "      <td>37.874223</td>\n",
       "      <td>138.971940</td>\n",
       "      <td>...</td>\n",
       "      <td>0</td>\n",
       "      <td>1</td>\n",
       "      <td>0</td>\n",
       "      <td>0</td>\n",
       "      <td>0</td>\n",
       "      <td>0</td>\n",
       "      <td>0</td>\n",
       "      <td>0</td>\n",
       "      <td>2016-08-18</td>\n",
       "      <td>25</td>\n",
       "    </tr>\n",
       "    <tr>\n",
       "      <th>2783081</th>\n",
       "      <td>air_2aab19554f91ff82</td>\n",
       "      <td>2016-07-08 18:00:00</td>\n",
       "      <td>2016-07-05 11:00:00</td>\n",
       "      <td>2</td>\n",
       "      <td>18</td>\n",
       "      <td>hpg_cac091abfcee2a85</td>\n",
       "      <td>Yakiniku/Korean food</td>\n",
       "      <td>Tōkyō-to Chūō-ku Ginza</td>\n",
       "      <td>35.672114</td>\n",
       "      <td>139.770825</td>\n",
       "      <td>...</td>\n",
       "      <td>0</td>\n",
       "      <td>0</td>\n",
       "      <td>0</td>\n",
       "      <td>0</td>\n",
       "      <td>0</td>\n",
       "      <td>0</td>\n",
       "      <td>0</td>\n",
       "      <td>1</td>\n",
       "      <td>2016-03-03</td>\n",
       "      <td>41</td>\n",
       "    </tr>\n",
       "    <tr>\n",
       "      <th>6073894</th>\n",
       "      <td>air_0a74a5408a0b8642</td>\n",
       "      <td>2016-12-29 18:00:00</td>\n",
       "      <td>2016-12-25 21:00:00</td>\n",
       "      <td>2</td>\n",
       "      <td>18</td>\n",
       "      <td>hpg_2ded824e690c414a</td>\n",
       "      <td>Western food</td>\n",
       "      <td>Hokkaidō Sapporo-shi Minami 3 Jōnishi</td>\n",
       "      <td>43.055460</td>\n",
       "      <td>141.340956</td>\n",
       "      <td>...</td>\n",
       "      <td>0</td>\n",
       "      <td>0</td>\n",
       "      <td>0</td>\n",
       "      <td>0</td>\n",
       "      <td>0</td>\n",
       "      <td>0</td>\n",
       "      <td>1</td>\n",
       "      <td>0</td>\n",
       "      <td>2017-02-14</td>\n",
       "      <td>40</td>\n",
       "    </tr>\n",
       "    <tr>\n",
       "      <th>1830510</th>\n",
       "      <td>air_290e7a57b390f78e</td>\n",
       "      <td>2016-10-31 18:00:00</td>\n",
       "      <td>2016-10-31 18:00:00</td>\n",
       "      <td>1</td>\n",
       "      <td>18</td>\n",
       "      <td>hpg_c5ec63f52e4a7e9e</td>\n",
       "      <td>Italian/French</td>\n",
       "      <td>Tōkyō-to Minato-ku Shibakōen</td>\n",
       "      <td>35.658068</td>\n",
       "      <td>139.751599</td>\n",
       "      <td>...</td>\n",
       "      <td>1</td>\n",
       "      <td>0</td>\n",
       "      <td>0</td>\n",
       "      <td>0</td>\n",
       "      <td>0</td>\n",
       "      <td>0</td>\n",
       "      <td>0</td>\n",
       "      <td>0</td>\n",
       "      <td>2016-11-01</td>\n",
       "      <td>15</td>\n",
       "    </tr>\n",
       "  </tbody>\n",
       "</table>\n",
       "<p>1000 rows × 26 columns</p>\n",
       "</div>"
      ],
      "text/plain": [
       "                  air_store_id       visit_datetime     reserve_datetime  \\\n",
       "8290624   air_3e93f3c81008696d  2017-04-15 21:00:00  2017-04-14 22:00:00   \n",
       "5216712   air_9241121af22ff1d6  2016-04-30 19:00:00  2016-04-28 21:00:00   \n",
       "4454362   air_32460819c7600037  2016-04-20 19:00:00  2016-04-13 22:00:00   \n",
       "4436114   air_32460819c7600037  2016-02-15 19:00:00  2016-02-15 19:00:00   \n",
       "9988257   air_f8233ad00755c35c  2016-12-26 20:00:00  2016-12-26 15:00:00   \n",
       "...                        ...                  ...                  ...   \n",
       "2555730   air_2cee51fa6fdf6c0d  2017-01-28 21:00:00  2017-01-28 02:00:00   \n",
       "10319335  air_bb09595bab7d5cfb  2017-04-22 18:00:00  2017-04-19 17:00:00   \n",
       "2783081   air_2aab19554f91ff82  2016-07-08 18:00:00  2016-07-05 11:00:00   \n",
       "6073894   air_0a74a5408a0b8642  2016-12-29 18:00:00  2016-12-25 21:00:00   \n",
       "1830510   air_290e7a57b390f78e  2016-10-31 18:00:00  2016-10-31 18:00:00   \n",
       "\n",
       "          reserve_visitors  visit_hour          hpg_store_id  \\\n",
       "8290624                  3          21  hpg_c2a8494d55fafbd6   \n",
       "5216712                  2          19  hpg_49dbe1fd79450e55   \n",
       "4454362                  4          19  hpg_ac318be70910278f   \n",
       "4436114                  3          19  hpg_ac318be70910278f   \n",
       "9988257                  4          20  hpg_098e4dd30e54fee6   \n",
       "...                    ...         ...                   ...   \n",
       "2555730                  2          21  hpg_113fd6e4fa77800f   \n",
       "10319335                 3          18  hpg_aea428a1075052bf   \n",
       "2783081                  2          18  hpg_cac091abfcee2a85   \n",
       "6073894                  2          18  hpg_2ded824e690c414a   \n",
       "1830510                  1          18  hpg_c5ec63f52e4a7e9e   \n",
       "\n",
       "                        air_genre_name  \\\n",
       "8290624   Okonomiyaki/Monja/Teppanyaki   \n",
       "5216712                        Izakaya   \n",
       "4454362                     Dining bar   \n",
       "4436114                     Dining bar   \n",
       "9988257                 Italian/French   \n",
       "...                                ...   \n",
       "2555730                   Western food   \n",
       "10319335                       Izakaya   \n",
       "2783081           Yakiniku/Korean food   \n",
       "6073894                   Western food   \n",
       "1830510                 Italian/French   \n",
       "\n",
       "                                       air_area_name   latitude   longitude  \\\n",
       "8290624   Hiroshima-ken Hiroshima-shi Kokutaijimachi  34.386245  132.455018   \n",
       "5216712              Tōkyō-to Katsushika-ku Tateishi  35.743575  139.847180   \n",
       "4454362                 Ōsaka-fu Ōsaka-shi Shinmachi  34.676231  135.486059   \n",
       "4436114                 Ōsaka-fu Ōsaka-shi Shinmachi  34.676231  135.486059   \n",
       "9988257                  Tōkyō-to Shibuya-ku Shibuya  35.661777  139.704051   \n",
       "...                                              ...        ...         ...   \n",
       "2555730                  Tōkyō-to Shibuya-ku Shibuya  35.661777  139.704051   \n",
       "10319335        Niigata-ken Niigata-shi Teraohigashi  37.874223  138.971940   \n",
       "2783081                       Tōkyō-to Chūō-ku Ginza  35.672114  139.770825   \n",
       "6073894        Hokkaidō Sapporo-shi Minami 3 Jōnishi  43.055460  141.340956   \n",
       "1830510                 Tōkyō-to Minato-ku Shibakōen  35.658068  139.751599   \n",
       "\n",
       "          ...  air_genre_name_Italian/French  air_genre_name_Izakaya  \\\n",
       "8290624   ...                              0                       0   \n",
       "5216712   ...                              0                       1   \n",
       "4454362   ...                              0                       0   \n",
       "4436114   ...                              0                       0   \n",
       "9988257   ...                              1                       0   \n",
       "...       ...                            ...                     ...   \n",
       "2555730   ...                              0                       0   \n",
       "10319335  ...                              0                       1   \n",
       "2783081   ...                              0                       0   \n",
       "6073894   ...                              0                       0   \n",
       "1830510   ...                              1                       0   \n",
       "\n",
       "          air_genre_name_Japanese food  air_genre_name_Karaoke/Party  \\\n",
       "8290624                              0                             0   \n",
       "5216712                              0                             0   \n",
       "4454362                              0                             0   \n",
       "4436114                              0                             0   \n",
       "9988257                              0                             0   \n",
       "...                                ...                           ...   \n",
       "2555730                              0                             0   \n",
       "10319335                             0                             0   \n",
       "2783081                              0                             0   \n",
       "6073894                              0                             0   \n",
       "1830510                              0                             0   \n",
       "\n",
       "          air_genre_name_Okonomiyaki/Monja/Teppanyaki  air_genre_name_Other  \\\n",
       "8290624                                             1                     0   \n",
       "5216712                                             0                     0   \n",
       "4454362                                             0                     0   \n",
       "4436114                                             0                     0   \n",
       "9988257                                             0                     0   \n",
       "...                                               ...                   ...   \n",
       "2555730                                             0                     0   \n",
       "10319335                                            0                     0   \n",
       "2783081                                             0                     0   \n",
       "6073894                                             0                     0   \n",
       "1830510                                             0                     0   \n",
       "\n",
       "          air_genre_name_Western food  air_genre_name_Yakiniku/Korean food  \\\n",
       "8290624                             0                                    0   \n",
       "5216712                             0                                    0   \n",
       "4454362                             0                                    0   \n",
       "4436114                             0                                    0   \n",
       "9988257                             0                                    0   \n",
       "...                               ...                                  ...   \n",
       "2555730                             1                                    0   \n",
       "10319335                            0                                    0   \n",
       "2783081                             0                                    1   \n",
       "6073894                             1                                    0   \n",
       "1830510                             0                                    0   \n",
       "\n",
       "          visit_date  visitors  \n",
       "8290624   2017-03-24        42  \n",
       "5216712   2016-04-21        14  \n",
       "4454362   2016-02-17        31  \n",
       "4436114   2016-10-05        57  \n",
       "9988257   2016-08-29        37  \n",
       "...              ...       ...  \n",
       "2555730   2016-07-10        45  \n",
       "10319335  2016-08-18        25  \n",
       "2783081   2016-03-03        41  \n",
       "6073894   2017-02-14        40  \n",
       "1830510   2016-11-01        15  \n",
       "\n",
       "[1000 rows x 26 columns]"
      ]
     },
     "execution_count": 19,
     "metadata": {},
     "output_type": "execute_result"
    }
   ],
   "source": [
    "train = pd.merge(air_reserve,store_id_relation,how=\"inner\",on=[\"air_store_id\"])\n",
    "train = pd.merge(train,air_store,how=\"inner\",on=[\"air_store_id\"])\n",
    "train = pd.merge(train,air_visit,how=\"inner\",on=[\"air_store_id\"])\n",
    "train1 = train.drop([\"visit_date\",\"visit_datetime\",\"hpg_store_id\",\"reserve_datetime\", \"air_genre_name\", \"air_area_name\", \"latitude\", \"longitude\",\"visitors\"], axis = 1)\n",
    "train = train.sample(1000)\n",
    "train1 = train1.sample(1000)\n",
    "train"
   ]
  },
  {
   "cell_type": "code",
   "execution_count": 20,
   "metadata": {
    "execution": {
     "iopub.execute_input": "2023-06-22T22:33:16.744354Z",
     "iopub.status.busy": "2023-06-22T22:33:16.743791Z",
     "iopub.status.idle": "2023-06-22T22:33:16.746028Z",
     "shell.execute_reply": "2023-06-22T22:33:16.745468Z",
     "shell.execute_reply.started": "2023-06-22T21:54:49.540720Z"
    },
    "papermill": {
     "duration": 0.04124,
     "end_time": "2023-06-22T22:33:16.746127",
     "exception": false,
     "start_time": "2023-06-22T22:33:16.704887",
     "status": "completed"
    },
    "tags": []
   },
   "outputs": [],
   "source": [
    "# 説明変数と目的変数を指定\n",
    "\n",
    "# 説明変数のデータを作る\n",
    "X = train.drop([\"air_store_id\",\"visit_date\",\"visit_datetime\",\"hpg_store_id\",\"reserve_datetime\", \"air_genre_name\", \"air_area_name\", \"latitude\", \"longitude\",\"visitors\"], axis = 1)\n",
    "\n",
    "# 目的変数のデータを作る\n",
    "y = train['visitors'].values "
   ]
  },
  {
   "cell_type": "code",
   "execution_count": 21,
   "metadata": {
    "execution": {
     "iopub.execute_input": "2023-06-22T22:33:16.832044Z",
     "iopub.status.busy": "2023-06-22T22:33:16.831318Z",
     "iopub.status.idle": "2023-06-22T22:33:16.835373Z",
     "shell.execute_reply": "2023-06-22T22:33:16.835822Z",
     "shell.execute_reply.started": "2023-06-22T21:57:19.295761Z"
    },
    "papermill": {
     "duration": 0.055451,
     "end_time": "2023-06-22T22:33:16.835945",
     "exception": false,
     "start_time": "2023-06-22T22:33:16.780494",
     "status": "completed"
    },
    "tags": []
   },
   "outputs": [
    {
     "data": {
      "text/html": [
       "<div>\n",
       "<style scoped>\n",
       "    .dataframe tbody tr th:only-of-type {\n",
       "        vertical-align: middle;\n",
       "    }\n",
       "\n",
       "    .dataframe tbody tr th {\n",
       "        vertical-align: top;\n",
       "    }\n",
       "\n",
       "    .dataframe thead th {\n",
       "        text-align: right;\n",
       "    }\n",
       "</style>\n",
       "<table border=\"1\" class=\"dataframe\">\n",
       "  <thead>\n",
       "    <tr style=\"text-align: right;\">\n",
       "      <th></th>\n",
       "      <th>reserve_visitors</th>\n",
       "      <th>visit_hour</th>\n",
       "      <th>air_genre_name_Asian</th>\n",
       "      <th>air_genre_name_Bar/Cocktail</th>\n",
       "      <th>air_genre_name_Cafe/Sweets</th>\n",
       "      <th>air_genre_name_Creative cuisine</th>\n",
       "      <th>air_genre_name_Dining bar</th>\n",
       "      <th>air_genre_name_International cuisine</th>\n",
       "      <th>air_genre_name_Italian/French</th>\n",
       "      <th>air_genre_name_Izakaya</th>\n",
       "      <th>air_genre_name_Japanese food</th>\n",
       "      <th>air_genre_name_Karaoke/Party</th>\n",
       "      <th>air_genre_name_Okonomiyaki/Monja/Teppanyaki</th>\n",
       "      <th>air_genre_name_Other</th>\n",
       "      <th>air_genre_name_Western food</th>\n",
       "      <th>air_genre_name_Yakiniku/Korean food</th>\n",
       "    </tr>\n",
       "  </thead>\n",
       "  <tbody>\n",
       "    <tr>\n",
       "      <th>8290624</th>\n",
       "      <td>3</td>\n",
       "      <td>21</td>\n",
       "      <td>0</td>\n",
       "      <td>0</td>\n",
       "      <td>0</td>\n",
       "      <td>0</td>\n",
       "      <td>0</td>\n",
       "      <td>0</td>\n",
       "      <td>0</td>\n",
       "      <td>0</td>\n",
       "      <td>0</td>\n",
       "      <td>0</td>\n",
       "      <td>1</td>\n",
       "      <td>0</td>\n",
       "      <td>0</td>\n",
       "      <td>0</td>\n",
       "    </tr>\n",
       "    <tr>\n",
       "      <th>5216712</th>\n",
       "      <td>2</td>\n",
       "      <td>19</td>\n",
       "      <td>0</td>\n",
       "      <td>0</td>\n",
       "      <td>0</td>\n",
       "      <td>0</td>\n",
       "      <td>0</td>\n",
       "      <td>0</td>\n",
       "      <td>0</td>\n",
       "      <td>1</td>\n",
       "      <td>0</td>\n",
       "      <td>0</td>\n",
       "      <td>0</td>\n",
       "      <td>0</td>\n",
       "      <td>0</td>\n",
       "      <td>0</td>\n",
       "    </tr>\n",
       "    <tr>\n",
       "      <th>4454362</th>\n",
       "      <td>4</td>\n",
       "      <td>19</td>\n",
       "      <td>0</td>\n",
       "      <td>0</td>\n",
       "      <td>0</td>\n",
       "      <td>0</td>\n",
       "      <td>1</td>\n",
       "      <td>0</td>\n",
       "      <td>0</td>\n",
       "      <td>0</td>\n",
       "      <td>0</td>\n",
       "      <td>0</td>\n",
       "      <td>0</td>\n",
       "      <td>0</td>\n",
       "      <td>0</td>\n",
       "      <td>0</td>\n",
       "    </tr>\n",
       "    <tr>\n",
       "      <th>4436114</th>\n",
       "      <td>3</td>\n",
       "      <td>19</td>\n",
       "      <td>0</td>\n",
       "      <td>0</td>\n",
       "      <td>0</td>\n",
       "      <td>0</td>\n",
       "      <td>1</td>\n",
       "      <td>0</td>\n",
       "      <td>0</td>\n",
       "      <td>0</td>\n",
       "      <td>0</td>\n",
       "      <td>0</td>\n",
       "      <td>0</td>\n",
       "      <td>0</td>\n",
       "      <td>0</td>\n",
       "      <td>0</td>\n",
       "    </tr>\n",
       "    <tr>\n",
       "      <th>9988257</th>\n",
       "      <td>4</td>\n",
       "      <td>20</td>\n",
       "      <td>0</td>\n",
       "      <td>0</td>\n",
       "      <td>0</td>\n",
       "      <td>0</td>\n",
       "      <td>0</td>\n",
       "      <td>0</td>\n",
       "      <td>1</td>\n",
       "      <td>0</td>\n",
       "      <td>0</td>\n",
       "      <td>0</td>\n",
       "      <td>0</td>\n",
       "      <td>0</td>\n",
       "      <td>0</td>\n",
       "      <td>0</td>\n",
       "    </tr>\n",
       "    <tr>\n",
       "      <th>...</th>\n",
       "      <td>...</td>\n",
       "      <td>...</td>\n",
       "      <td>...</td>\n",
       "      <td>...</td>\n",
       "      <td>...</td>\n",
       "      <td>...</td>\n",
       "      <td>...</td>\n",
       "      <td>...</td>\n",
       "      <td>...</td>\n",
       "      <td>...</td>\n",
       "      <td>...</td>\n",
       "      <td>...</td>\n",
       "      <td>...</td>\n",
       "      <td>...</td>\n",
       "      <td>...</td>\n",
       "      <td>...</td>\n",
       "    </tr>\n",
       "    <tr>\n",
       "      <th>2555730</th>\n",
       "      <td>2</td>\n",
       "      <td>21</td>\n",
       "      <td>0</td>\n",
       "      <td>0</td>\n",
       "      <td>0</td>\n",
       "      <td>0</td>\n",
       "      <td>0</td>\n",
       "      <td>0</td>\n",
       "      <td>0</td>\n",
       "      <td>0</td>\n",
       "      <td>0</td>\n",
       "      <td>0</td>\n",
       "      <td>0</td>\n",
       "      <td>0</td>\n",
       "      <td>1</td>\n",
       "      <td>0</td>\n",
       "    </tr>\n",
       "    <tr>\n",
       "      <th>10319335</th>\n",
       "      <td>3</td>\n",
       "      <td>18</td>\n",
       "      <td>0</td>\n",
       "      <td>0</td>\n",
       "      <td>0</td>\n",
       "      <td>0</td>\n",
       "      <td>0</td>\n",
       "      <td>0</td>\n",
       "      <td>0</td>\n",
       "      <td>1</td>\n",
       "      <td>0</td>\n",
       "      <td>0</td>\n",
       "      <td>0</td>\n",
       "      <td>0</td>\n",
       "      <td>0</td>\n",
       "      <td>0</td>\n",
       "    </tr>\n",
       "    <tr>\n",
       "      <th>2783081</th>\n",
       "      <td>2</td>\n",
       "      <td>18</td>\n",
       "      <td>0</td>\n",
       "      <td>0</td>\n",
       "      <td>0</td>\n",
       "      <td>0</td>\n",
       "      <td>0</td>\n",
       "      <td>0</td>\n",
       "      <td>0</td>\n",
       "      <td>0</td>\n",
       "      <td>0</td>\n",
       "      <td>0</td>\n",
       "      <td>0</td>\n",
       "      <td>0</td>\n",
       "      <td>0</td>\n",
       "      <td>1</td>\n",
       "    </tr>\n",
       "    <tr>\n",
       "      <th>6073894</th>\n",
       "      <td>2</td>\n",
       "      <td>18</td>\n",
       "      <td>0</td>\n",
       "      <td>0</td>\n",
       "      <td>0</td>\n",
       "      <td>0</td>\n",
       "      <td>0</td>\n",
       "      <td>0</td>\n",
       "      <td>0</td>\n",
       "      <td>0</td>\n",
       "      <td>0</td>\n",
       "      <td>0</td>\n",
       "      <td>0</td>\n",
       "      <td>0</td>\n",
       "      <td>1</td>\n",
       "      <td>0</td>\n",
       "    </tr>\n",
       "    <tr>\n",
       "      <th>1830510</th>\n",
       "      <td>1</td>\n",
       "      <td>18</td>\n",
       "      <td>0</td>\n",
       "      <td>0</td>\n",
       "      <td>0</td>\n",
       "      <td>0</td>\n",
       "      <td>0</td>\n",
       "      <td>0</td>\n",
       "      <td>1</td>\n",
       "      <td>0</td>\n",
       "      <td>0</td>\n",
       "      <td>0</td>\n",
       "      <td>0</td>\n",
       "      <td>0</td>\n",
       "      <td>0</td>\n",
       "      <td>0</td>\n",
       "    </tr>\n",
       "  </tbody>\n",
       "</table>\n",
       "<p>1000 rows × 16 columns</p>\n",
       "</div>"
      ],
      "text/plain": [
       "          reserve_visitors  visit_hour  air_genre_name_Asian  \\\n",
       "8290624                  3          21                     0   \n",
       "5216712                  2          19                     0   \n",
       "4454362                  4          19                     0   \n",
       "4436114                  3          19                     0   \n",
       "9988257                  4          20                     0   \n",
       "...                    ...         ...                   ...   \n",
       "2555730                  2          21                     0   \n",
       "10319335                 3          18                     0   \n",
       "2783081                  2          18                     0   \n",
       "6073894                  2          18                     0   \n",
       "1830510                  1          18                     0   \n",
       "\n",
       "          air_genre_name_Bar/Cocktail  air_genre_name_Cafe/Sweets  \\\n",
       "8290624                             0                           0   \n",
       "5216712                             0                           0   \n",
       "4454362                             0                           0   \n",
       "4436114                             0                           0   \n",
       "9988257                             0                           0   \n",
       "...                               ...                         ...   \n",
       "2555730                             0                           0   \n",
       "10319335                            0                           0   \n",
       "2783081                             0                           0   \n",
       "6073894                             0                           0   \n",
       "1830510                             0                           0   \n",
       "\n",
       "          air_genre_name_Creative cuisine  air_genre_name_Dining bar  \\\n",
       "8290624                                 0                          0   \n",
       "5216712                                 0                          0   \n",
       "4454362                                 0                          1   \n",
       "4436114                                 0                          1   \n",
       "9988257                                 0                          0   \n",
       "...                                   ...                        ...   \n",
       "2555730                                 0                          0   \n",
       "10319335                                0                          0   \n",
       "2783081                                 0                          0   \n",
       "6073894                                 0                          0   \n",
       "1830510                                 0                          0   \n",
       "\n",
       "          air_genre_name_International cuisine  air_genre_name_Italian/French  \\\n",
       "8290624                                      0                              0   \n",
       "5216712                                      0                              0   \n",
       "4454362                                      0                              0   \n",
       "4436114                                      0                              0   \n",
       "9988257                                      0                              1   \n",
       "...                                        ...                            ...   \n",
       "2555730                                      0                              0   \n",
       "10319335                                     0                              0   \n",
       "2783081                                      0                              0   \n",
       "6073894                                      0                              0   \n",
       "1830510                                      0                              1   \n",
       "\n",
       "          air_genre_name_Izakaya  air_genre_name_Japanese food  \\\n",
       "8290624                        0                             0   \n",
       "5216712                        1                             0   \n",
       "4454362                        0                             0   \n",
       "4436114                        0                             0   \n",
       "9988257                        0                             0   \n",
       "...                          ...                           ...   \n",
       "2555730                        0                             0   \n",
       "10319335                       1                             0   \n",
       "2783081                        0                             0   \n",
       "6073894                        0                             0   \n",
       "1830510                        0                             0   \n",
       "\n",
       "          air_genre_name_Karaoke/Party  \\\n",
       "8290624                              0   \n",
       "5216712                              0   \n",
       "4454362                              0   \n",
       "4436114                              0   \n",
       "9988257                              0   \n",
       "...                                ...   \n",
       "2555730                              0   \n",
       "10319335                             0   \n",
       "2783081                              0   \n",
       "6073894                              0   \n",
       "1830510                              0   \n",
       "\n",
       "          air_genre_name_Okonomiyaki/Monja/Teppanyaki  air_genre_name_Other  \\\n",
       "8290624                                             1                     0   \n",
       "5216712                                             0                     0   \n",
       "4454362                                             0                     0   \n",
       "4436114                                             0                     0   \n",
       "9988257                                             0                     0   \n",
       "...                                               ...                   ...   \n",
       "2555730                                             0                     0   \n",
       "10319335                                            0                     0   \n",
       "2783081                                             0                     0   \n",
       "6073894                                             0                     0   \n",
       "1830510                                             0                     0   \n",
       "\n",
       "          air_genre_name_Western food  air_genre_name_Yakiniku/Korean food  \n",
       "8290624                             0                                    0  \n",
       "5216712                             0                                    0  \n",
       "4454362                             0                                    0  \n",
       "4436114                             0                                    0  \n",
       "9988257                             0                                    0  \n",
       "...                               ...                                  ...  \n",
       "2555730                             1                                    0  \n",
       "10319335                            0                                    0  \n",
       "2783081                             0                                    1  \n",
       "6073894                             1                                    0  \n",
       "1830510                             0                                    0  \n",
       "\n",
       "[1000 rows x 16 columns]"
      ]
     },
     "execution_count": 21,
     "metadata": {},
     "output_type": "execute_result"
    }
   ],
   "source": [
    "X"
   ]
  },
  {
   "cell_type": "code",
   "execution_count": 22,
   "metadata": {
    "execution": {
     "iopub.execute_input": "2023-06-22T22:33:16.906458Z",
     "iopub.status.busy": "2023-06-22T22:33:16.905926Z",
     "iopub.status.idle": "2023-06-22T22:33:16.952587Z",
     "shell.execute_reply": "2023-06-22T22:33:16.953096Z",
     "shell.execute_reply.started": "2023-06-22T21:54:50.170792Z"
    },
    "papermill": {
     "duration": 0.083258,
     "end_time": "2023-06-22T22:33:16.953221",
     "exception": false,
     "start_time": "2023-06-22T22:33:16.869963",
     "status": "completed"
    },
    "tags": []
   },
   "outputs": [
    {
     "data": {
      "text/plain": [
       "LinearRegression()"
      ]
     },
     "execution_count": 22,
     "metadata": {},
     "output_type": "execute_result"
    }
   ],
   "source": [
    "# 重回帰のモデリング\n",
    "# モデルのインスタンスを作る\n",
    "reg2 = linear_model.LinearRegression()\n",
    "# データをインプットする\n",
    "reg2.fit(X,y) # この時点でidとつなげないとできない(air_visit✖列行違うため)"
   ]
  },
  {
   "cell_type": "code",
   "execution_count": 23,
   "metadata": {
    "execution": {
     "iopub.execute_input": "2023-06-22T22:33:17.024127Z",
     "iopub.status.busy": "2023-06-22T22:33:17.023354Z",
     "iopub.status.idle": "2023-06-22T22:33:17.028846Z",
     "shell.execute_reply": "2023-06-22T22:33:17.029352Z",
     "shell.execute_reply.started": "2023-06-22T21:54:50.480144Z"
    },
    "papermill": {
     "duration": 0.042794,
     "end_time": "2023-06-22T22:33:17.029473",
     "exception": false,
     "start_time": "2023-06-22T22:33:16.986679",
     "status": "completed"
    },
    "tags": []
   },
   "outputs": [
    {
     "name": "stdout",
     "output_type": "stream",
     "text": [
      "回帰係数は [ 4.85510602e-02 -5.56026696e-01  9.32587341e-15 -1.09633028e+01\n",
      " -4.94506706e+00 -4.50326932e+00  6.99828180e+00 -1.77635684e-15\n",
      "  7.73621945e+00  2.60546572e+00  5.40477278e-01 -1.13945134e+01\n",
      "  4.68554310e+00 -6.59080814e+00  6.06077516e+00  9.77019821e+00] \n",
      "\n",
      "切片は 29.778300898176614\n"
     ]
    }
   ],
   "source": [
    "print('回帰係数は',reg2.coef_,'\\n') #アンダーバー(_)に注意、忘れないように！\n",
    "print('切片は',reg2.intercept_)"
   ]
  },
  {
   "cell_type": "code",
   "execution_count": 24,
   "metadata": {
    "execution": {
     "iopub.execute_input": "2023-06-22T22:33:17.101096Z",
     "iopub.status.busy": "2023-06-22T22:33:17.100380Z",
     "iopub.status.idle": "2023-06-22T22:33:17.118559Z",
     "shell.execute_reply": "2023-06-22T22:33:17.119056Z",
     "shell.execute_reply.started": "2023-06-22T21:57:42.743697Z"
    },
    "papermill": {
     "duration": 0.055866,
     "end_time": "2023-06-22T22:33:17.119173",
     "exception": false,
     "start_time": "2023-06-22T22:33:17.063307",
     "status": "completed"
    },
    "tags": []
   },
   "outputs": [
    {
     "data": {
      "text/plain": [
       "(39000, 16)"
      ]
     },
     "execution_count": 24,
     "metadata": {},
     "output_type": "execute_result"
    }
   ],
   "source": [
    "X2 = pd.merge(sample,train1,how=\"inner\",left_on='store_id', right_on='air_store_id')\n",
    "X3 = X2.drop([\"visitors\",\"visit_date\",\"air_store_id\",\"id\",\"store_id\"], axis = 1)\n",
    "X3.shape"
   ]
  },
  {
   "cell_type": "code",
   "execution_count": 25,
   "metadata": {
    "execution": {
     "iopub.execute_input": "2023-06-22T22:33:17.191282Z",
     "iopub.status.busy": "2023-06-22T22:33:17.190554Z",
     "iopub.status.idle": "2023-06-22T22:33:17.197183Z",
     "shell.execute_reply": "2023-06-22T22:33:17.196631Z",
     "shell.execute_reply.started": "2023-06-22T22:19:21.274481Z"
    },
    "papermill": {
     "duration": 0.043775,
     "end_time": "2023-06-22T22:33:17.197310",
     "exception": false,
     "start_time": "2023-06-22T22:33:17.153535",
     "status": "completed"
    },
    "tags": []
   },
   "outputs": [
    {
     "name": "stdout",
     "output_type": "stream",
     "text": [
      "39000\n",
      "32019\n"
     ]
    }
   ],
   "source": [
    "print(len(X3))\n",
    "X3 = X3.iloc[:32019]  # 必要な行数に調整する\n",
    "print(len(X3))"
   ]
  },
  {
   "cell_type": "code",
   "execution_count": 26,
   "metadata": {
    "execution": {
     "iopub.execute_input": "2023-06-22T22:33:17.273718Z",
     "iopub.status.busy": "2023-06-22T22:33:17.273178Z",
     "iopub.status.idle": "2023-06-22T22:33:17.278473Z",
     "shell.execute_reply": "2023-06-22T22:33:17.278042Z",
     "shell.execute_reply.started": "2023-06-22T22:19:22.856328Z"
    },
    "papermill": {
     "duration": 0.046027,
     "end_time": "2023-06-22T22:33:17.278574",
     "exception": false,
     "start_time": "2023-06-22T22:33:17.232547",
     "status": "completed"
    },
    "tags": []
   },
   "outputs": [
    {
     "data": {
      "text/plain": [
       "array([22.06201469, 22.47238821, 22.47238821, ..., 21.65164118,\n",
       "       22.90934775, 22.95789881])"
      ]
     },
     "execution_count": 26,
     "metadata": {},
     "output_type": "execute_result"
    }
   ],
   "source": [
    "# モデルを使った予測値を出力\n",
    "reg2.predict(X3)"
   ]
  },
  {
   "cell_type": "code",
   "execution_count": 27,
   "metadata": {
    "execution": {
     "iopub.execute_input": "2023-06-22T22:33:17.365620Z",
     "iopub.status.busy": "2023-06-22T22:33:17.364961Z",
     "iopub.status.idle": "2023-06-22T22:33:17.368627Z",
     "shell.execute_reply": "2023-06-22T22:33:17.369151Z",
     "shell.execute_reply.started": "2023-06-22T22:19:23.645322Z"
    },
    "papermill": {
     "duration": 0.055459,
     "end_time": "2023-06-22T22:33:17.369273",
     "exception": false,
     "start_time": "2023-06-22T22:33:17.313814",
     "status": "completed"
    },
    "tags": []
   },
   "outputs": [
    {
     "data": {
      "text/html": [
       "<div>\n",
       "<style scoped>\n",
       "    .dataframe tbody tr th:only-of-type {\n",
       "        vertical-align: middle;\n",
       "    }\n",
       "\n",
       "    .dataframe tbody tr th {\n",
       "        vertical-align: top;\n",
       "    }\n",
       "\n",
       "    .dataframe thead th {\n",
       "        text-align: right;\n",
       "    }\n",
       "</style>\n",
       "<table border=\"1\" class=\"dataframe\">\n",
       "  <thead>\n",
       "    <tr style=\"text-align: right;\">\n",
       "      <th></th>\n",
       "      <th>id</th>\n",
       "      <th>visitors</th>\n",
       "      <th>store_id</th>\n",
       "      <th>visit_date</th>\n",
       "    </tr>\n",
       "  </thead>\n",
       "  <tbody>\n",
       "    <tr>\n",
       "      <th>0</th>\n",
       "      <td>air_00a91d42b08b08d9_2017-04-23</td>\n",
       "      <td>0</td>\n",
       "      <td>air_00a91d42b08b08d9</td>\n",
       "      <td>2017-04-23</td>\n",
       "    </tr>\n",
       "    <tr>\n",
       "      <th>1</th>\n",
       "      <td>air_00a91d42b08b08d9_2017-04-24</td>\n",
       "      <td>0</td>\n",
       "      <td>air_00a91d42b08b08d9</td>\n",
       "      <td>2017-04-24</td>\n",
       "    </tr>\n",
       "    <tr>\n",
       "      <th>2</th>\n",
       "      <td>air_00a91d42b08b08d9_2017-04-25</td>\n",
       "      <td>0</td>\n",
       "      <td>air_00a91d42b08b08d9</td>\n",
       "      <td>2017-04-25</td>\n",
       "    </tr>\n",
       "    <tr>\n",
       "      <th>3</th>\n",
       "      <td>air_00a91d42b08b08d9_2017-04-26</td>\n",
       "      <td>0</td>\n",
       "      <td>air_00a91d42b08b08d9</td>\n",
       "      <td>2017-04-26</td>\n",
       "    </tr>\n",
       "    <tr>\n",
       "      <th>4</th>\n",
       "      <td>air_00a91d42b08b08d9_2017-04-27</td>\n",
       "      <td>0</td>\n",
       "      <td>air_00a91d42b08b08d9</td>\n",
       "      <td>2017-04-27</td>\n",
       "    </tr>\n",
       "    <tr>\n",
       "      <th>...</th>\n",
       "      <td>...</td>\n",
       "      <td>...</td>\n",
       "      <td>...</td>\n",
       "      <td>...</td>\n",
       "    </tr>\n",
       "    <tr>\n",
       "      <th>32014</th>\n",
       "      <td>air_fff68b929994bfbd_2017-05-27</td>\n",
       "      <td>0</td>\n",
       "      <td>air_fff68b929994bfbd</td>\n",
       "      <td>2017-05-27</td>\n",
       "    </tr>\n",
       "    <tr>\n",
       "      <th>32015</th>\n",
       "      <td>air_fff68b929994bfbd_2017-05-28</td>\n",
       "      <td>0</td>\n",
       "      <td>air_fff68b929994bfbd</td>\n",
       "      <td>2017-05-28</td>\n",
       "    </tr>\n",
       "    <tr>\n",
       "      <th>32016</th>\n",
       "      <td>air_fff68b929994bfbd_2017-05-29</td>\n",
       "      <td>0</td>\n",
       "      <td>air_fff68b929994bfbd</td>\n",
       "      <td>2017-05-29</td>\n",
       "    </tr>\n",
       "    <tr>\n",
       "      <th>32017</th>\n",
       "      <td>air_fff68b929994bfbd_2017-05-30</td>\n",
       "      <td>0</td>\n",
       "      <td>air_fff68b929994bfbd</td>\n",
       "      <td>2017-05-30</td>\n",
       "    </tr>\n",
       "    <tr>\n",
       "      <th>32018</th>\n",
       "      <td>air_fff68b929994bfbd_2017-05-31</td>\n",
       "      <td>0</td>\n",
       "      <td>air_fff68b929994bfbd</td>\n",
       "      <td>2017-05-31</td>\n",
       "    </tr>\n",
       "  </tbody>\n",
       "</table>\n",
       "<p>32019 rows × 4 columns</p>\n",
       "</div>"
      ],
      "text/plain": [
       "                                    id  visitors              store_id  \\\n",
       "0      air_00a91d42b08b08d9_2017-04-23         0  air_00a91d42b08b08d9   \n",
       "1      air_00a91d42b08b08d9_2017-04-24         0  air_00a91d42b08b08d9   \n",
       "2      air_00a91d42b08b08d9_2017-04-25         0  air_00a91d42b08b08d9   \n",
       "3      air_00a91d42b08b08d9_2017-04-26         0  air_00a91d42b08b08d9   \n",
       "4      air_00a91d42b08b08d9_2017-04-27         0  air_00a91d42b08b08d9   \n",
       "...                                ...       ...                   ...   \n",
       "32014  air_fff68b929994bfbd_2017-05-27         0  air_fff68b929994bfbd   \n",
       "32015  air_fff68b929994bfbd_2017-05-28         0  air_fff68b929994bfbd   \n",
       "32016  air_fff68b929994bfbd_2017-05-29         0  air_fff68b929994bfbd   \n",
       "32017  air_fff68b929994bfbd_2017-05-30         0  air_fff68b929994bfbd   \n",
       "32018  air_fff68b929994bfbd_2017-05-31         0  air_fff68b929994bfbd   \n",
       "\n",
       "      visit_date  \n",
       "0     2017-04-23  \n",
       "1     2017-04-24  \n",
       "2     2017-04-25  \n",
       "3     2017-04-26  \n",
       "4     2017-04-27  \n",
       "...          ...  \n",
       "32014 2017-05-27  \n",
       "32015 2017-05-28  \n",
       "32016 2017-05-29  \n",
       "32017 2017-05-30  \n",
       "32018 2017-05-31  \n",
       "\n",
       "[32019 rows x 4 columns]"
      ]
     },
     "execution_count": 27,
     "metadata": {},
     "output_type": "execute_result"
    }
   ],
   "source": [
    "sample"
   ]
  },
  {
   "cell_type": "code",
   "execution_count": 28,
   "metadata": {
    "execution": {
     "iopub.execute_input": "2023-06-22T22:33:17.451503Z",
     "iopub.status.busy": "2023-06-22T22:33:17.446608Z",
     "iopub.status.idle": "2023-06-22T22:33:17.454939Z",
     "shell.execute_reply": "2023-06-22T22:33:17.455465Z",
     "shell.execute_reply.started": "2023-06-22T22:19:24.170091Z"
    },
    "papermill": {
     "duration": 0.050376,
     "end_time": "2023-06-22T22:33:17.455615",
     "exception": false,
     "start_time": "2023-06-22T22:33:17.405239",
     "status": "completed"
    },
    "tags": []
   },
   "outputs": [
    {
     "name": "stdout",
     "output_type": "stream",
     "text": [
      "      visit_date  visitors\n",
      "0     2017-04-23         0\n",
      "1     2017-04-24         0\n",
      "2     2017-04-25         0\n",
      "3     2017-04-26         0\n",
      "4     2017-04-27         0\n",
      "...          ...       ...\n",
      "32014 2017-05-27         0\n",
      "32015 2017-05-28         0\n",
      "32016 2017-05-29         0\n",
      "32017 2017-05-30         0\n",
      "32018 2017-05-31         0\n",
      "\n",
      "[32019 rows x 2 columns]\n",
      "32019\n"
     ]
    }
   ],
   "source": [
    "new_sample = sample[[\"visit_date\", \"visitors\"]]\n",
    "print(new_sample)\n",
    "print(len(new_sample))"
   ]
  },
  {
   "cell_type": "code",
   "execution_count": 29,
   "metadata": {
    "execution": {
     "iopub.execute_input": "2023-06-22T22:33:17.530709Z",
     "iopub.status.busy": "2023-06-22T22:33:17.530167Z",
     "iopub.status.idle": "2023-06-22T22:33:17.536655Z",
     "shell.execute_reply": "2023-06-22T22:33:17.537197Z",
     "shell.execute_reply.started": "2023-06-22T22:19:26.384370Z"
    },
    "papermill": {
     "duration": 0.045511,
     "end_time": "2023-06-22T22:33:17.537352",
     "exception": false,
     "start_time": "2023-06-22T22:33:17.491841",
     "status": "completed"
    },
    "tags": []
   },
   "outputs": [],
   "source": [
    "new_sample.visitors = reg2.predict(X3)"
   ]
  },
  {
   "cell_type": "code",
   "execution_count": 30,
   "metadata": {
    "execution": {
     "iopub.execute_input": "2023-06-22T22:33:17.614138Z",
     "iopub.status.busy": "2023-06-22T22:33:17.613535Z",
     "iopub.status.idle": "2023-06-22T22:33:18.049113Z",
     "shell.execute_reply": "2023-06-22T22:33:18.049641Z",
     "shell.execute_reply.started": "2023-06-22T22:19:34.995080Z"
    },
    "papermill": {
     "duration": 0.475265,
     "end_time": "2023-06-22T22:33:18.049785",
     "exception": false,
     "start_time": "2023-06-22T22:33:17.574520",
     "status": "completed"
    },
    "tags": []
   },
   "outputs": [],
   "source": [
    "sample.to_csv(\"sample.csv\")"
   ]
  },
  {
   "cell_type": "code",
   "execution_count": 31,
   "metadata": {
    "execution": {
     "iopub.execute_input": "2023-06-22T22:33:18.129845Z",
     "iopub.status.busy": "2023-06-22T22:33:18.129253Z",
     "iopub.status.idle": "2023-06-22T22:33:18.133200Z",
     "shell.execute_reply": "2023-06-22T22:33:18.132634Z"
    },
    "papermill": {
     "duration": 0.044605,
     "end_time": "2023-06-22T22:33:18.133306",
     "exception": false,
     "start_time": "2023-06-22T22:33:18.088701",
     "status": "completed"
    },
    "tags": []
   },
   "outputs": [
    {
     "data": {
      "text/plain": [
       "\"\\nsample.drop(['visitors'], axis=1, inplace=True)    # axisは次元を指定しており、axis=0は行、axis=1は列を表す（デフォルトは0）# inplace=Trueとすると、元のデータフレームが変更される。\\n\""
      ]
     },
     "execution_count": 31,
     "metadata": {},
     "output_type": "execute_result"
    }
   ],
   "source": [
    "\"\"\"\n",
    "sample.drop(['visitors'], axis=1, inplace=True)    # axisは次元を指定しており、axis=0は行、axis=1は列を表す（デフォルトは0）# inplace=Trueとすると、元のデータフレームが変更される。\n",
    "\"\"\""
   ]
  },
  {
   "cell_type": "code",
   "execution_count": 32,
   "metadata": {
    "execution": {
     "iopub.execute_input": "2023-06-22T22:33:18.209591Z",
     "iopub.status.busy": "2023-06-22T22:33:18.209049Z",
     "iopub.status.idle": "2023-06-22T22:33:18.213851Z",
     "shell.execute_reply": "2023-06-22T22:33:18.214261Z"
    },
    "papermill": {
     "duration": 0.044171,
     "end_time": "2023-06-22T22:33:18.214381",
     "exception": false,
     "start_time": "2023-06-22T22:33:18.170210",
     "status": "completed"
    },
    "tags": []
   },
   "outputs": [
    {
     "data": {
      "text/plain": [
       "\"\\nvdt = pd.to_datetime(full.visit_datetime)\\nrdt = pd.to_datetime(full.reserve_datetime)\\nfull['vd']=vdt.dt.date\\nfull['vt']=vdt.dt.time\\nfull['rd']=rdt.dt.date\\nfull['rt']=rdt.dt.time\\n\\ndts = pd.to_datetime(date_info.calendar_date)\\ndays = ['Sunday','Monday','Tuesday','Wednesday','Thursday','Friday','Saturday']\\ndate_info['calendar_date'] = pd.to_datetime(date_info['calendar_date']).dt.date\\ndate_info['dy'] = dts.dt.dayofyear\\ndate_info['dw'] = [days.index(dw) for dw in date_info.day_of_week]\\ndate_info.head()\\n\\nnf = pd.merge(full,date_info[['calendar_date','holiday_flg']],how='left',left_on='vd',right_on='calendar_date')\\nnf = nf.rename(index = str, columns = {'holiday_flg':'visit_holiday'})\\nnf = nf.drop(['calendar_date'],axis=1)\\n\\nnf = pd.merge(nf,date_info[['calendar_date','holiday_flg']],how = 'left', left_on='rd',right_on='calendar_date')\\nnf = nf.rename(index = str, columns = {'holiday_flg':'reservation_holiday'})\\nnf = nf.drop(['calendar_date'],axis=1)\\n\\nnf['vd'] = pd.to_datetime(nf['vd']).dt.dayofyear\\nnf['rd'] = pd.to_datetime(nf['rd']).dt.dayofyear\\nnf\\n\""
      ]
     },
     "execution_count": 32,
     "metadata": {},
     "output_type": "execute_result"
    }
   ],
   "source": [
    "\"\"\"\n",
    "vdt = pd.to_datetime(full.visit_datetime)\n",
    "rdt = pd.to_datetime(full.reserve_datetime)\n",
    "full['vd']=vdt.dt.date\n",
    "full['vt']=vdt.dt.time\n",
    "full['rd']=rdt.dt.date\n",
    "full['rt']=rdt.dt.time\n",
    "\n",
    "dts = pd.to_datetime(date_info.calendar_date)\n",
    "days = ['Sunday','Monday','Tuesday','Wednesday','Thursday','Friday','Saturday']\n",
    "date_info['calendar_date'] = pd.to_datetime(date_info['calendar_date']).dt.date\n",
    "date_info['dy'] = dts.dt.dayofyear\n",
    "date_info['dw'] = [days.index(dw) for dw in date_info.day_of_week]\n",
    "date_info.head()\n",
    "\n",
    "nf = pd.merge(full,date_info[['calendar_date','holiday_flg']],how='left',left_on='vd',right_on='calendar_date')\n",
    "nf = nf.rename(index = str, columns = {'holiday_flg':'visit_holiday'})\n",
    "nf = nf.drop(['calendar_date'],axis=1)\n",
    "\n",
    "nf = pd.merge(nf,date_info[['calendar_date','holiday_flg']],how = 'left', left_on='rd',right_on='calendar_date')\n",
    "nf = nf.rename(index = str, columns = {'holiday_flg':'reservation_holiday'})\n",
    "nf = nf.drop(['calendar_date'],axis=1)\n",
    "\n",
    "nf['vd'] = pd.to_datetime(nf['vd']).dt.dayofyear\n",
    "nf['rd'] = pd.to_datetime(nf['rd']).dt.dayofyear\n",
    "nf\n",
    "\"\"\""
   ]
  },
  {
   "cell_type": "code",
   "execution_count": 33,
   "metadata": {
    "execution": {
     "iopub.execute_input": "2023-06-22T22:33:18.291402Z",
     "iopub.status.busy": "2023-06-22T22:33:18.290830Z",
     "iopub.status.idle": "2023-06-22T22:33:18.295639Z",
     "shell.execute_reply": "2023-06-22T22:33:18.295202Z"
    },
    "papermill": {
     "duration": 0.044461,
     "end_time": "2023-06-22T22:33:18.295732",
     "exception": false,
     "start_time": "2023-06-22T22:33:18.251271",
     "status": "completed"
    },
    "tags": []
   },
   "outputs": [
    {
     "data": {
      "text/plain": [
       "'\\nX1 = sample.loc[:, [\"visit_date\"]].values\\nX1\\n'"
      ]
     },
     "execution_count": 33,
     "metadata": {},
     "output_type": "execute_result"
    }
   ],
   "source": [
    "\"\"\"\n",
    "X1 = sample.loc[:, [\"visit_date\"]].values\n",
    "X1\n",
    "\"\"\""
   ]
  }
 ],
 "metadata": {
  "kernelspec": {
   "display_name": "Python 3",
   "language": "python",
   "name": "python3"
  },
  "language_info": {
   "codemirror_mode": {
    "name": "ipython",
    "version": 3
   },
   "file_extension": ".py",
   "mimetype": "text/x-python",
   "name": "python",
   "nbconvert_exporter": "python",
   "pygments_lexer": "ipython3",
   "version": "3.7.6"
  },
  "papermill": {
   "duration": 19.813344,
   "end_time": "2023-06-22T22:33:19.422203",
   "environment_variables": {},
   "exception": null,
   "input_path": "__notebook__.ipynb",
   "output_path": "__notebook__.ipynb",
   "parameters": {},
   "start_time": "2023-06-22T22:32:59.608859",
   "version": "2.1.0"
  }
 },
 "nbformat": 4,
 "nbformat_minor": 4
}
