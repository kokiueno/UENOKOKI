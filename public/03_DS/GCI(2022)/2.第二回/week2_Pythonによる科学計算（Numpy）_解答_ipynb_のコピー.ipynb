{
  "nbformat": 4,
  "nbformat_minor": 0,
  "metadata": {
    "colab": {
      "name": "week2/Pythonによる科学計算（Numpy）_解答.ipynb のコピー",
      "provenance": [],
      "collapsed_sections": []
    },
    "kernelspec": {
      "display_name": "Python 3",
      "language": "python",
      "name": "python3"
    },
    "language_info": {
      "codemirror_mode": {
        "name": "ipython",
        "version": 3
      },
      "file_extension": ".py",
      "mimetype": "text/x-python",
      "name": "python",
      "nbconvert_exporter": "python",
      "pygments_lexer": "ipython3",
      "version": "3.8.8"
    }
  },
  "cells": [
    {
      "cell_type": "markdown",
      "metadata": {
        "id": "Ac5OxfyShuau"
      },
      "source": [
        "# Week 2 練習と総合問題解答"
      ]
    },
    {
      "cell_type": "code",
      "metadata": {
        "colab": {
          "base_uri": "https://localhost:8080/",
          "height": 35
        },
        "id": "Y2IuptI5huav",
        "outputId": "9be79751-e1ce-4141-b5f9-7f48363dd0da"
      },
      "source": [
        "# 以下のライブラリを使うので、あらかじめ読み込んでおいてください\n",
        "import numpy as np\n",
        "import numpy.random as random\n",
        "import numpy.linalg as LA\n",
        "import scipy as sp\n",
        "import pandas as pd\n",
        "from pandas import Series, DataFrame\n",
        "\n",
        "# 可視化ライブラリ\n",
        "import matplotlib.pyplot as plt\n",
        "import matplotlib as mpl\n",
        "import seaborn as sns\n",
        "%matplotlib inline\n",
        "\n",
        "# 小数第３まで表示\n",
        "%precision 3"
      ],
      "execution_count": null,
      "outputs": [
        {
          "output_type": "execute_result",
          "data": {
            "application/vnd.google.colaboratory.intrinsic+json": {
              "type": "string"
            },
            "text/plain": [
              "'%.3f'"
            ]
          },
          "metadata": {},
          "execution_count": 1
        }
      ]
    },
    {
      "cell_type": "markdown",
      "metadata": {
        "id": "t-fS4I7yhuaz"
      },
      "source": [
        "### 2.1.3 練習問題"
      ]
    },
    {
      "cell_type": "markdown",
      "metadata": {
        "id": "RpuZHT0Ohua0"
      },
      "source": [
        "**問1** \\\n",
        "(1) 1次元であなたの好きな値を要素にもつ同じ長さの`np.ndarray`を2つ作成し、`type()`関数を用いて`np.ndarray`になっていることを確認してください。\\\n",
        "(2) (1)で作成した2つの1次元配列に対して四則演算を行ってください。"
      ]
    },
    {
      "cell_type": "code",
      "metadata": {
        "id": "KQEOSLnPhua0"
      },
      "source": [
        "#(1)\n",
        "array1 =  np.array([1,2,3,4,5])\n",
        "array2 =  np.array([6,7,8,9,10])"
      ],
      "execution_count": null,
      "outputs": []
    },
    {
      "cell_type": "code",
      "metadata": {
        "colab": {
          "base_uri": "https://localhost:8080/"
        },
        "id": "1h6zbFDNhua3",
        "outputId": "f7076323-857f-4943-fdf8-94998f2124e7"
      },
      "source": [
        "type(array1)"
      ],
      "execution_count": null,
      "outputs": [
        {
          "output_type": "execute_result",
          "data": {
            "text/plain": [
              "numpy.ndarray"
            ]
          },
          "metadata": {},
          "execution_count": 3
        }
      ]
    },
    {
      "cell_type": "code",
      "metadata": {
        "colab": {
          "base_uri": "https://localhost:8080/"
        },
        "id": "Gi5f-pckhua5",
        "outputId": "d9318426-7a19-4caa-e5d8-278ee6324b12"
      },
      "source": [
        "type(array2)"
      ],
      "execution_count": null,
      "outputs": [
        {
          "output_type": "execute_result",
          "data": {
            "text/plain": [
              "numpy.ndarray"
            ]
          },
          "metadata": {},
          "execution_count": 4
        }
      ]
    },
    {
      "cell_type": "code",
      "metadata": {
        "colab": {
          "base_uri": "https://localhost:8080/"
        },
        "id": "Xr1WMwqDhua8",
        "outputId": "3aa72da8-1f76-45c1-e8b0-e6041a95a008"
      },
      "source": [
        "#(2)\n",
        "print('加法',array1 + array2)\n",
        "print('減法',array1 - array2)\n",
        "print('乗法',array1 * array2)\n",
        "print('除法',array1 / array2)"
      ],
      "execution_count": null,
      "outputs": [
        {
          "output_type": "stream",
          "name": "stdout",
          "text": [
            "加法 [ 7  9 11 13 15]\n",
            "減法 [-5 -5 -5 -5 -5]\n",
            "乗法 [ 6 14 24 36 50]\n",
            "除法 [0.167 0.286 0.375 0.444 0.5  ]\n"
          ]
        }
      ]
    },
    {
      "cell_type": "markdown",
      "metadata": {
        "id": "sKi7Cze4hua-"
      },
      "source": [
        "**問２**\\\n",
        "1次元配列を一つ入力とし、出力が入力を規格化した1次元配列となるような関数を作成してください。\\\n",
        "ここで、ベクトルの(L2ノルムによる)規格化とは元々のベクトルとは並行で、全ての要素の2乗和の平方根が1となるようにすることです。\\\n",
        "このとき、Numpyの**ユニバーサルな演算や関数のみ**を用いて実装してください。"
      ]
    },
    {
      "cell_type": "code",
      "metadata": {
        "id": "qxSY9hM6cLbw"
      },
      "source": [
        ""
      ],
      "execution_count": null,
      "outputs": []
    },
    {
      "cell_type": "code",
      "metadata": {
        "id": "3EH7ubT3hua_"
      },
      "source": [
        "def normalize(a):\n",
        "    return a/np.sqrt(np.sum(a**2))"
      ],
      "execution_count": null,
      "outputs": []
    },
    {
      "cell_type": "code",
      "metadata": {
        "colab": {
          "base_uri": "https://localhost:8080/"
        },
        "id": "izrOBw4AhubB",
        "outputId": "f17e3048-9bcb-4421-b384-d4ea657fdbfa"
      },
      "source": [
        "array1"
      ],
      "execution_count": null,
      "outputs": [
        {
          "output_type": "execute_result",
          "data": {
            "text/plain": [
              "array([1, 2, 3, 4, 5])"
            ]
          },
          "metadata": {},
          "execution_count": 54
        }
      ]
    },
    {
      "cell_type": "code",
      "metadata": {
        "colab": {
          "base_uri": "https://localhost:8080/"
        },
        "id": "L3KrpyeRhubE",
        "outputId": "48a14429-d76c-4763-e6c1-eb82f5e6a35a"
      },
      "source": [
        "print(normalize(array1))\n",
        "print(np.sqrt(np.sum(normalize(array1)**2)))"
      ],
      "execution_count": null,
      "outputs": [
        {
          "output_type": "stream",
          "name": "stdout",
          "text": [
            "[0.135 0.27  0.405 0.539 0.674]\n",
            "1.0\n"
          ]
        }
      ]
    },
    {
      "cell_type": "markdown",
      "metadata": {
        "id": "QMCgRlfNhubG"
      },
      "source": [
        "### 2.2.4練習問題"
      ]
    },
    {
      "cell_type": "markdown",
      "metadata": {
        "id": "Z1Edl3-1hubG"
      },
      "source": [
        "**問1** インデキシングの基礎\\\n",
        "あなたが作成した任意の配列に対して、前から一番目と後ろから一番目の値を取得して表示してください。"
      ]
    },
    {
      "cell_type": "code",
      "metadata": {
        "colab": {
          "base_uri": "https://localhost:8080/"
        },
        "id": "zt643SPmhubH",
        "outputId": "6fc01e61-047b-4a56-e3fa-4af4a8926bfd"
      },
      "source": [
        "a = np.array([1,2,3,4,5])\n",
        "print(\"前から一番目の値:\",a[0])\n",
        "print(\"後ろから一番目の値:\",a[-1])"
      ],
      "execution_count": null,
      "outputs": [
        {
          "output_type": "stream",
          "name": "stdout",
          "text": [
            "前から一番目の値: 1\n",
            "後ろから一番目の値: 5\n"
          ]
        }
      ]
    },
    {
      "cell_type": "markdown",
      "metadata": {
        "id": "pbJSoOPzhubJ"
      },
      "source": [
        "**問2** ブールインデックス参照 \\\n",
        "(1) 整数値を値にもつNumpyの1次元配列を引数として、奇数または4で割って2余るような配列の値を列挙する関数を実装してください。\\\n",
        "(2) 正の整数を引数として、その数より小さい正の平方数の個数をブールインデックス参照を用いて求める関数を実装してください\\\n",
        "     (ヒント:十分な数の正の平方数を小さい順に列挙し，その中で引数より小さいものを数える)。"
      ]
    },
    {
      "cell_type": "code",
      "metadata": {
        "id": "f7_pEWg4hubK"
      },
      "source": [
        "# (1)\n",
        "def make_bool_ids(a):\n",
        "    idx1 = (a % 2 != 0)\n",
        "    idx2 = (a % 4 == 2)\n",
        "    idx = idx1 | idx2\n",
        "    return idx"
      ],
      "execution_count": null,
      "outputs": []
    },
    {
      "cell_type": "code",
      "metadata": {
        "colab": {
          "base_uri": "https://localhost:8080/"
        },
        "id": "E42MzJDBhubM",
        "outputId": "eea3631a-dad8-4bd5-aec3-405d25236c26"
      },
      "source": [
        "# 入力例\n",
        "a = np.array([1, 1, 2, 2, 3, 3, 4, 4, 5, 5])\n",
        "idx = make_bool_ids(a)\n",
        "print(a[idx])\n",
        "# 出力例\n",
        "# np.array([1, 1, 2, 2, 3, 3, 5, 5])"
      ],
      "execution_count": null,
      "outputs": [
        {
          "output_type": "stream",
          "name": "stdout",
          "text": [
            "[1 1 2 2 3 3 5 5]\n"
          ]
        }
      ]
    },
    {
      "cell_type": "code",
      "metadata": {
        "id": "i9UMR6sEhubO"
      },
      "source": [
        "# (2)\n",
        "def count_square(n):\n",
        "    array = np.arange(1,n) ** 2\n",
        "    answer = np.sum((array < n))\n",
        "    return answer"
      ],
      "execution_count": null,
      "outputs": []
    },
    {
      "cell_type": "code",
      "metadata": {
        "id": "DTfg621i1G8E"
      },
      "source": [
        "# (2)別解\n",
        "def count_square(n):\n",
        "    array = np.arange(1,n)\n",
        "    answer = np.sum((array < np.sqrt(n)))\n",
        "    return answer  "
      ],
      "execution_count": null,
      "outputs": []
    },
    {
      "cell_type": "code",
      "metadata": {
        "colab": {
          "base_uri": "https://localhost:8080/"
        },
        "id": "ylH2pHnShubQ",
        "outputId": "5efa9e52-e81c-4f72-8812-543ef50552b8"
      },
      "source": [
        "# 入力例\n",
        "n = 20\n",
        "answer = count_square(n)\n",
        "print(answer)\n",
        "# 出力例\n",
        "# 20未満の正の平方数は1, 4, 9, 16\n",
        "# 4"
      ],
      "execution_count": null,
      "outputs": [
        {
          "output_type": "stream",
          "name": "stdout",
          "text": [
            "4\n"
          ]
        }
      ]
    },
    {
      "cell_type": "markdown",
      "metadata": {
        "id": "51GnJo69hubS"
      },
      "source": [
        "### 2.3.4 練習問題"
      ]
    },
    {
      "cell_type": "markdown",
      "metadata": {
        "id": "Bp6a1YKzhubS"
      },
      "source": [
        "**問1**\n",
        "(1) 5人の生徒の4回分のテストの点数の結果を100点満点で2次元配列に格納してください。\\\n",
        "このとき、axis 0を生徒でaxis 1をテストの各回だとします。また，値は任意であるとします。\n",
        "\n",
        "(2) それぞれの生徒の4回分のテスト結果の最高点・最低点・平均・分散をそれぞれ計算してください。\\\n",
        "その結果をaxis 0が生徒、axis 1が集約結果(最高点・最低点・平均・分散)となる2次元配列にしてください。\n",
        "\n",
        "(3) 各テストの点数について、その点数がその生徒の平均点から絶対値で何点差かを求めた`shape=(5, 4)`の2次元配列を計算してください。"
      ]
    },
    {
      "cell_type": "code",
      "metadata": {
        "id": "a-6IgGUKhubT"
      },
      "source": [
        "# (1)\n",
        "array = np.array([[90, 100, 80,56],\n",
        "                      [67, 94, 29,90],\n",
        "                      [94, 56, 92,74],\n",
        "                      [39, 46, 62,74],\n",
        "                      [23, 48, 81,83]\n",
        "                      ])"
      ],
      "execution_count": null,
      "outputs": []
    },
    {
      "cell_type": "code",
      "metadata": {
        "colab": {
          "base_uri": "https://localhost:8080/"
        },
        "id": "XIgc6xdHhubV",
        "outputId": "eee8d5e6-8cba-4640-89c6-495c6f3f6169"
      },
      "source": [
        "# (2)\n",
        "print('student1',\n",
        "      f'最高点:{np.max(array, axis=1)[0]}',\n",
        "      f'最低点:{np.min(array, axis=1)[0]}',\n",
        "      f'平均点:{np.mean(array, axis=1)[0]}',\n",
        "      f'分散:{np.var(array, axis=1)[0]}')\n",
        "\n",
        "print('student2',\n",
        "      f'最高点:{np.max(array, axis=1)[1]}',\n",
        "      f'最低点:{np.min(array, axis=1)[1]}',\n",
        "      f'平均点:{np.mean(array, axis=1)[1]}',\n",
        "      f'分散:{np.var(array, axis=1)[1]}')\n",
        "\n",
        "print('studet3',\n",
        "      f'最高点:{np.max(array, axis=1)[2]}',\n",
        "      f'最低点:{np.min(array, axis=1)[2]}',\n",
        "      f'平均点:{np.mean(array, axis=1)[2]}',\n",
        "      f'分散:{np.var(array, axis=1)[2]}')\n",
        "\n",
        "print('student4',\n",
        "      f'最高点:{np.max(array, axis=1)[3]}',\n",
        "      f'最低点:{np.min(array, axis=1)[3]}',\n",
        "      f'平均点:{np.mean(array, axis=1)[3]}',\n",
        "      f'分散:{np.var(array, axis=1)[3]}')\n",
        "\n",
        "print('student5',\n",
        "      f'最高点:{np.max(array, axis=1)[4]}',\n",
        "      f'最低点:{np.min(array, axis=1)[4]}',\n",
        "      f'平均点:{np.mean(array, axis=1)[4]}',\n",
        "      f'分散:{np.var(array, axis=1)[4]}')\n",
        "\n",
        "array2 = np.array(\n",
        "    [\n",
        "        [np.max(array, axis=1)[0],np.min(array, axis=1)[0],np.mean(array, axis=1)[0],np.var(array, axis=1)[0]],\n",
        "        [np.max(array, axis=1)[1],np.min(array, axis=1)[1],np.mean(array, axis=1)[1],np.var(array, axis=1)[1]],\n",
        "        [np.max(array, axis=1)[2],np.min(array, axis=1)[2],np.mean(array, axis=1)[2],np.var(array, axis=1)[2]],\n",
        "        [np.max(array, axis=1)[3],np.min(array, axis=1)[3],np.mean(array, axis=1)[3],np.var(array, axis=1)[3]],\n",
        "        [np.max(array, axis=1)[4],np.min(array, axis=1)[4],np.mean(array, axis=1)[4],np.var(array, axis=1)[4]],\n",
        "    ]\n",
        ")"
      ],
      "execution_count": null,
      "outputs": [
        {
          "output_type": "stream",
          "name": "stdout",
          "text": [
            "student1 最高点:100 最低点:56 平均点:81.5 分散:266.75\n",
            "student2 最高点:94 最低点:29 平均点:70.0 分散:666.5\n",
            "studet3 最高点:94 最低点:56 平均点:79.0 分散:237.0\n",
            "student4 最高点:74 最低点:39 平均点:55.25 分散:186.6875\n",
            "student5 最高点:83 最低点:23 平均点:58.75 分散:619.1875\n"
          ]
        }
      ]
    },
    {
      "cell_type": "code",
      "metadata": {
        "colab": {
          "base_uri": "https://localhost:8080/"
        },
        "id": "rirRKcd1hubX",
        "outputId": "246e0529-d1b7-4719-9e13-6b63b43070ae"
      },
      "source": [
        "array2"
      ],
      "execution_count": null,
      "outputs": [
        {
          "output_type": "execute_result",
          "data": {
            "text/plain": [
              "array([[100.   ,  56.   ,  81.5  , 266.75 ],\n",
              "       [ 94.   ,  29.   ,  70.   , 666.5  ],\n",
              "       [ 94.   ,  56.   ,  79.   , 237.   ],\n",
              "       [ 74.   ,  39.   ,  55.25 , 186.688],\n",
              "       [ 83.   ,  23.   ,  58.75 , 619.188]])"
            ]
          },
          "metadata": {},
          "execution_count": 59
        }
      ]
    },
    {
      "cell_type": "code",
      "metadata": {
        "colab": {
          "base_uri": "https://localhost:8080/"
        },
        "id": "5MN6e1B2hubZ",
        "outputId": "5df8e781-115a-462f-c199-081e7811e903"
      },
      "source": [
        "array2[:,2].reshape(5,1)"
      ],
      "execution_count": null,
      "outputs": [
        {
          "output_type": "execute_result",
          "data": {
            "text/plain": [
              "array([[81.5 ],\n",
              "       [70.  ],\n",
              "       [79.  ],\n",
              "       [55.25],\n",
              "       [58.75]])"
            ]
          },
          "metadata": {},
          "execution_count": 60
        }
      ]
    },
    {
      "cell_type": "code",
      "metadata": {
        "id": "dKAsuaSJhubc"
      },
      "source": [
        "# (3)\n",
        "array3 = np.abs(array-array2[:,2].reshape(5,1))"
      ],
      "execution_count": null,
      "outputs": []
    },
    {
      "cell_type": "code",
      "metadata": {
        "colab": {
          "base_uri": "https://localhost:8080/"
        },
        "id": "kYBBDivIhube",
        "outputId": "e300f6ed-580c-470e-cc7c-ff4a0e8ba567"
      },
      "source": [
        "print(array3)\n",
        "print(array3.shape)"
      ],
      "execution_count": null,
      "outputs": [
        {
          "output_type": "stream",
          "name": "stdout",
          "text": [
            "[[ 8.5  18.5   1.5  25.5 ]\n",
            " [ 3.   24.   41.   20.  ]\n",
            " [15.   23.   13.    5.  ]\n",
            " [16.25  9.25  6.75 18.75]\n",
            " [35.75 10.75 22.25 24.25]]\n",
            "(5, 4)\n"
          ]
        }
      ]
    },
    {
      "cell_type": "markdown",
      "metadata": {
        "id": "OzM1oTGghubg"
      },
      "source": [
        "### 2.4.4 練習問題"
      ]
    },
    {
      "cell_type": "markdown",
      "metadata": {
        "id": "1Dd6gLPQhubh"
      },
      "source": [
        "**問1**\\\n",
        "(1) 0~99までの100個の連続整数を値にもつ1次元の`np.ndarray`を作成し，shapeが`(10, 10)`の2次元配列となるように整形してください。\\\n",
        "(2) (1)の配列から偶数行目を抜き出したshapeが`(5, 10)`の2次元配列を作成してください。ただし行は0から数えます。\\\n",
        "(3) (1)の配列から奇数列目を抜き出したshapeが`(10, 5)`の2次元配列を作成してください。ただし列は0から数えます。\\\n",
        "(4) (1)の配列から，偶数行目かつ奇数列目にある値を要素にもつshapeが`(5, 5)`の2次元配列を作成してください。ただし行と列は0から数えます。"
      ]
    },
    {
      "cell_type": "code",
      "metadata": {
        "colab": {
          "base_uri": "https://localhost:8080/"
        },
        "id": "KIGN9XR2hubh",
        "outputId": "d15164e7-6987-4308-e759-873029a74c03"
      },
      "source": [
        "# (1)\n",
        "array1 = np.arange(0,100).reshape(10,10)\n",
        "array1"
      ],
      "execution_count": null,
      "outputs": [
        {
          "output_type": "execute_result",
          "data": {
            "text/plain": [
              "array([[ 0,  1,  2,  3,  4,  5,  6,  7,  8,  9],\n",
              "       [10, 11, 12, 13, 14, 15, 16, 17, 18, 19],\n",
              "       [20, 21, 22, 23, 24, 25, 26, 27, 28, 29],\n",
              "       [30, 31, 32, 33, 34, 35, 36, 37, 38, 39],\n",
              "       [40, 41, 42, 43, 44, 45, 46, 47, 48, 49],\n",
              "       [50, 51, 52, 53, 54, 55, 56, 57, 58, 59],\n",
              "       [60, 61, 62, 63, 64, 65, 66, 67, 68, 69],\n",
              "       [70, 71, 72, 73, 74, 75, 76, 77, 78, 79],\n",
              "       [80, 81, 82, 83, 84, 85, 86, 87, 88, 89],\n",
              "       [90, 91, 92, 93, 94, 95, 96, 97, 98, 99]])"
            ]
          },
          "metadata": {},
          "execution_count": 64
        }
      ]
    },
    {
      "cell_type": "code",
      "metadata": {
        "colab": {
          "base_uri": "https://localhost:8080/"
        },
        "id": "va5AnutVhubj",
        "outputId": "3cb15999-fca1-48dd-bd80-3cd282efb04b"
      },
      "source": [
        "# (2)\n",
        "idx1 = np.arange(0,array1.shape[0],2)\n",
        "array1[idx1, :]"
      ],
      "execution_count": null,
      "outputs": [
        {
          "output_type": "execute_result",
          "data": {
            "text/plain": [
              "array([[ 0,  1,  2,  3,  4,  5,  6,  7,  8,  9],\n",
              "       [20, 21, 22, 23, 24, 25, 26, 27, 28, 29],\n",
              "       [40, 41, 42, 43, 44, 45, 46, 47, 48, 49],\n",
              "       [60, 61, 62, 63, 64, 65, 66, 67, 68, 69],\n",
              "       [80, 81, 82, 83, 84, 85, 86, 87, 88, 89]])"
            ]
          },
          "metadata": {},
          "execution_count": 65
        }
      ]
    },
    {
      "cell_type": "code",
      "metadata": {
        "colab": {
          "base_uri": "https://localhost:8080/"
        },
        "id": "xQWo2KnRhubl",
        "outputId": "a3027003-9902-4794-e454-5053a04c64ec"
      },
      "source": [
        "# (3)\n",
        "idx2 = np.arange(1,array1.shape[0],2)\n",
        "array1[:,idx2]"
      ],
      "execution_count": null,
      "outputs": [
        {
          "output_type": "execute_result",
          "data": {
            "text/plain": [
              "array([[ 1,  3,  5,  7,  9],\n",
              "       [11, 13, 15, 17, 19],\n",
              "       [21, 23, 25, 27, 29],\n",
              "       [31, 33, 35, 37, 39],\n",
              "       [41, 43, 45, 47, 49],\n",
              "       [51, 53, 55, 57, 59],\n",
              "       [61, 63, 65, 67, 69],\n",
              "       [71, 73, 75, 77, 79],\n",
              "       [81, 83, 85, 87, 89],\n",
              "       [91, 93, 95, 97, 99]])"
            ]
          },
          "metadata": {},
          "execution_count": 66
        }
      ]
    },
    {
      "cell_type": "code",
      "metadata": {
        "colab": {
          "base_uri": "https://localhost:8080/"
        },
        "id": "KLXR1Qb5hubo",
        "scrolled": true,
        "outputId": "d7ff430b-805a-4cdc-fcee-917fdddee337"
      },
      "source": [
        "#(4)\n",
        "array1[np.ix_(idx1, idx2)]"
      ],
      "execution_count": null,
      "outputs": [
        {
          "output_type": "execute_result",
          "data": {
            "text/plain": [
              "array([[ 1,  3,  5,  7,  9],\n",
              "       [21, 23, 25, 27, 29],\n",
              "       [41, 43, 45, 47, 49],\n",
              "       [61, 63, 65, 67, 69],\n",
              "       [81, 83, 85, 87, 89]])"
            ]
          },
          "metadata": {},
          "execution_count": 68
        }
      ]
    },
    {
      "cell_type": "markdown",
      "metadata": {
        "id": "Rmm8CR5Shubr"
      },
      "source": [
        "### 2.6.2 練習問題"
      ]
    },
    {
      "cell_type": "markdown",
      "metadata": {
        "id": "Iwn-Ab7Zhubr"
      },
      "source": [
        "**問1**\\\n",
        "(1) 1次元配列に対して、最大値のインデックスを取得する関数を自分で調べて，実行してください。\\\n",
        "(2) 2次元配列のaxis 1の方向で各最大値のインデックスを取得してください。\\\n",
        "(3) 2次元配列の最大値のインデックスの場所が何行何列目かを取得する操作を自分で調べて実装してください。"
      ]
    },
    {
      "cell_type": "code",
      "metadata": {
        "colab": {
          "base_uri": "https://localhost:8080/"
        },
        "id": "4Rqif96Bhubr",
        "outputId": "2f35dd50-3375-4c07-b6b1-65c6248125a0"
      },
      "source": [
        "#(1) \n",
        "#入力例\n",
        "a = np.array([3, 8, 2, 6, 4, 4])\n",
        "print(np.argmax(a))\n",
        "# 出力例\n",
        "# 1\n",
        "\n",
        "#(2)\n",
        "# 入力例\n",
        "a = np.array([3, 8, 2, 6, 4, 4]).reshape(2, 3)\n",
        "print(a)\n",
        "print(np.argmax(a))\n",
        "print(np.argmax(a,axis=1))\n",
        "# 出力例\n",
        "# [[1],\n",
        "#[0]]\n",
        "\n",
        "#(3)\n",
        "def toi3(a):\n",
        "    max_value = np.min(a)\n",
        "    ret = None\n",
        "    for row in np.argmax(a, axis=1):\n",
        "        for col in np.argmax(a, axis=0):\n",
        "            if a[row,col] > max_value:\n",
        "                max_value = a[row,col]\n",
        "                ret = (row, col)\n",
        "    return ret\n",
        "    \n",
        "# 入力例\n",
        "a = np.array([3, 8, 2, 6, 4, 4]).reshape(2, 3)\n",
        "print(f'最大値{np.max(a)}は{toi3(a)}成分にある。')\n",
        "# 最大値8は(0, 1)成分にある\n",
        "# 出力例\n",
        "# (0, 1)"
      ],
      "execution_count": null,
      "outputs": [
        {
          "output_type": "stream",
          "name": "stdout",
          "text": [
            "1\n",
            "[[3 8 2]\n",
            " [6 4 4]]\n",
            "1\n",
            "[1 0]\n",
            "最大値8は(0, 1)成分にある。\n"
          ]
        }
      ]
    },
    {
      "cell_type": "markdown",
      "metadata": {
        "id": "BJ7Sbusihubt"
      },
      "source": [
        "***"
      ]
    },
    {
      "cell_type": "markdown",
      "metadata": {
        "id": "SbBKi1ha1G8J"
      },
      "source": [
        "## 2.7 総合問題"
      ]
    },
    {
      "cell_type": "markdown",
      "metadata": {
        "id": "DbjSUnT11G8J"
      },
      "source": [
        "**問1**\\\n",
        "昨今，深層学習を用いた自然言語処理において，GoogleのTransformerというものをベースとしたモデルがいくつかの自然言語処理タスクで人間越えの精度を出したことで脚光を浴びました。\n",
        "\n",
        "そして，2020年1月にGoogleはそのTransformerの時間計算量と空間計算量を改善した[Reformer](https://arxiv.org/abs/2001.04451)を発表しました。今回は，この論文の中で，Transformerの時間計算量を改善した部分に用いられた[*cross-polytope LSH*](https://arxiv.org/abs/1509.02897)というものを誘導付きで実装してみましょう。"
      ]
    },
    {
      "cell_type": "markdown",
      "metadata": {
        "id": "NbfBhqjV1G8K"
      },
      "source": [
        "いま，次の問題を考えます：\n",
        ">$n$本のベクトルに対して，\"似ている\"ベクトルには同じ整数値を，\"似ていない\"ベクトルには異なる整数値を割り当てられる方法を考えたい。このとき，ベクトルが\"似ている\"とは，ベクトル同士のなす角が0に近いことをいう。\n",
        "\n",
        "この問題は以下の難点があります：\n",
        "- なす角がどれくらい以下になれば似ているとして決めるのか。\n",
        "- ベクトル$a$と$b$, $b$と$c$がそれぞれ\"似ている\"とき，$a$と$c$が\"似ている\"とは限らない。\n",
        "- なす角$\\theta$を求めるには内積とノルムを使えば$\\cos \\theta$を計算できる。この値をソートして整数値をいい感じに割り振れば良さそうだが，基本的にソートは$n$が大きくなると遅い(ベクトルの組合せは$_nC_2$もある)。"
      ]
    },
    {
      "cell_type": "markdown",
      "metadata": {
        "id": "WNgnmYBG1G8K"
      },
      "source": [
        "そこで次の確率的な解法を考えます:\\\n",
        "①全てのベクトルを同じ角度だけ回転する。このときの回転角はランダムに決める。\n",
        "\n",
        "②\"似ている\"ベクトル同士は，回転後も**高確率で**同じ象限にあり，\"似ていない\"ベクトル同士は**高確率で**違う象限にある。\n",
        "\n",
        "③よって，ランダムな回転後のそれぞれのベクトルが属する象限の番号をそのベクトルに割り当てる整数値とすれば**高確率で**問題が解ける。\n",
        "\n",
        "これを実装します。"
      ]
    },
    {
      "cell_type": "markdown",
      "metadata": {
        "id": "jsgoTPIt1G8K"
      },
      "source": [
        "今回は3次元横ベクトルを100本用意したものを考えます。"
      ]
    },
    {
      "cell_type": "code",
      "metadata": {
        "tags": [],
        "colab": {
          "base_uri": "https://localhost:8080/"
        },
        "id": "NUStisgF1G8K",
        "outputId": "24652f5e-df1a-46c7-e99e-4567c7dd1edb"
      },
      "source": [
        "A = random.randn(100, 3) # 3次元横ベクトルを100本縦に積み重ねた行列\n",
        "print(A)"
      ],
      "execution_count": null,
      "outputs": [
        {
          "output_type": "stream",
          "name": "stdout",
          "text": [
            "[[ 3.433e-01  3.931e-01 -6.371e-01]\n",
            " [-1.507e+00  6.832e-05  9.954e-01]\n",
            " [ 3.632e-01 -1.563e-02 -5.136e-01]\n",
            " [ 3.326e-01  2.146e+00  9.277e-01]\n",
            " [-1.284e+00  5.662e-01  3.021e-01]\n",
            " [-6.306e-01 -1.449e+00  4.134e-01]\n",
            " [-1.696e+00  1.296e+00  9.287e-01]\n",
            " [ 6.633e-01  3.995e-01  5.211e-01]\n",
            " [-4.177e-01 -1.575e+00 -4.437e-01]\n",
            " [-1.232e+00 -1.008e+00  9.666e-01]\n",
            " [-2.136e-01 -5.649e-01  1.913e+00]\n",
            " [-8.751e-01  1.644e+00 -9.428e-01]\n",
            " [-4.633e-01  1.282e+00  1.070e+00]\n",
            " [-1.051e+00 -8.596e-01  1.189e+00]\n",
            " [ 2.217e-01 -6.280e-01  4.320e-01]\n",
            " [ 1.527e+00 -4.676e-01 -1.025e+00]\n",
            " [ 3.131e-01  2.085e+00 -1.226e+00]\n",
            " [ 4.247e-01 -9.250e-01 -1.894e-01]\n",
            " [-5.532e-01 -2.594e-01 -6.078e-01]\n",
            " [-3.070e-01 -1.035e+00 -1.970e-01]\n",
            " [-1.832e+00 -9.192e-02 -3.713e-01]\n",
            " [ 1.156e+00  4.442e-01 -2.873e+00]\n",
            " [-4.220e-01 -2.868e-01  1.751e+00]\n",
            " [ 5.166e-01 -4.354e-02 -6.673e-01]\n",
            " [-4.881e-01 -2.634e-02 -1.597e-01]\n",
            " [-9.405e-01  2.374e-01  2.076e+00]\n",
            " [-1.027e+00 -4.421e-02 -2.546e-02]\n",
            " [-9.839e-01  3.501e-02  1.260e+00]\n",
            " [ 2.377e+00 -6.604e-01 -8.449e-02]\n",
            " [ 9.357e-01  4.930e-01  1.806e-01]\n",
            " [-7.285e-01  1.937e+00 -1.463e+00]\n",
            " [-2.819e+00  6.786e-01 -1.278e+00]\n",
            " [ 2.064e+00  7.316e-01  4.409e-01]\n",
            " [ 1.071e-01 -3.495e-01  1.148e+00]\n",
            " [ 5.405e-01  3.067e-01  2.202e-01]\n",
            " [-6.727e-02 -6.322e-01 -1.464e-01]\n",
            " [-5.457e-01  1.786e-01  7.928e-01]\n",
            " [-2.085e+00 -2.617e-01  7.875e-01]\n",
            " [-6.048e-01  1.454e+00 -2.557e-01]\n",
            " [ 1.044e+00 -1.102e-01 -8.160e-02]\n",
            " [ 5.516e-01  1.865e+00 -6.885e-02]\n",
            " [ 2.345e-01  5.195e-01 -7.414e-01]\n",
            " [-2.557e-01  1.132e+00  5.379e-01]\n",
            " [-8.049e-01 -1.197e+00 -5.835e-01]\n",
            " [ 9.499e-02 -3.744e-01  2.386e-01]\n",
            " [-1.648e-01  2.332e-01  1.851e-01]\n",
            " [ 8.013e-01 -2.922e-01 -3.074e-01]\n",
            " [-9.575e-01 -1.028e+00 -1.149e+00]\n",
            " [ 8.382e-02 -6.054e-01  5.006e-01]\n",
            " [ 2.365e-01 -2.605e-01  1.798e-01]\n",
            " [-1.692e+00 -2.896e-01  1.428e+00]\n",
            " [-1.472e-02  1.373e+00 -2.058e-01]\n",
            " [-7.129e-01  1.659e+00  1.774e+00]\n",
            " [ 1.568e-01 -2.439e+00  2.452e-01]\n",
            " [ 1.409e-01  5.720e-01  3.917e-01]\n",
            " [ 1.499e-01  3.991e-01  1.795e+00]\n",
            " [ 1.799e+00 -3.833e-01  3.974e-01]\n",
            " [ 1.301e+00 -2.687e-01 -1.156e+00]\n",
            " [-1.923e-02  1.451e-01 -3.707e-01]\n",
            " [-1.221e+00 -1.640e+00 -1.550e+00]\n",
            " [ 1.283e-01  4.579e-01 -1.418e+00]\n",
            " [ 8.382e-02 -1.058e+00  1.288e+00]\n",
            " [-6.942e-01 -4.563e-01  4.660e-01]\n",
            " [ 9.221e-01 -9.190e-01 -1.064e+00]\n",
            " [-1.033e+00 -6.961e-01 -8.138e-02]\n",
            " [ 2.967e-01 -7.608e-01  1.084e+00]\n",
            " [-1.660e+00  1.344e+00  6.067e-01]\n",
            " [ 4.977e-01 -2.286e-01 -1.169e+00]\n",
            " [-4.568e-01 -2.343e-01  4.031e-01]\n",
            " [ 1.880e-01 -5.137e-01  3.843e-01]\n",
            " [ 9.411e-01  9.388e-01  4.393e-01]\n",
            " [-5.662e-01 -2.507e+00 -1.243e+00]\n",
            " [-1.039e-01 -1.777e-01 -7.573e-02]\n",
            " [ 7.702e-01 -6.342e-01  7.085e-01]\n",
            " [ 4.038e-01  5.553e-01  9.069e-01]\n",
            " [-2.936e-02  1.270e+00  4.942e-01]\n",
            " [ 6.544e-01  4.148e-01 -7.634e-01]\n",
            " [ 6.054e-01  1.452e+00 -1.005e+00]\n",
            " [ 6.911e-01  1.634e-01 -1.008e+00]\n",
            " [ 1.624e+00  1.680e+00 -5.749e-01]\n",
            " [ 5.589e-01 -1.259e+00  8.465e-01]\n",
            " [ 1.282e-02  7.156e-01  4.427e-01]\n",
            " [-1.265e+00 -9.077e-01 -2.055e+00]\n",
            " [-5.476e-01  6.753e-01 -1.294e-01]\n",
            " [ 8.504e-01 -3.187e-01  2.116e+00]\n",
            " [ 1.023e+00  2.348e+00  9.137e-01]\n",
            " [ 1.940e-01  5.068e-01  1.070e+00]\n",
            " [-4.064e-01  1.204e+00 -9.875e-01]\n",
            " [ 6.122e-02 -9.818e-02 -6.592e-01]\n",
            " [-8.612e-01  2.257e+00 -8.651e-01]\n",
            " [-1.048e+00  2.885e-01  1.941e-01]\n",
            " [ 5.929e-02 -5.702e-01 -9.790e-01]\n",
            " [ 4.136e-01 -1.144e+00  3.934e-01]\n",
            " [ 4.439e-01  5.172e-02 -1.236e-01]\n",
            " [-5.590e-01 -7.473e-01 -1.303e+00]\n",
            " [-8.338e-01 -5.899e-02 -6.115e-01]\n",
            " [ 1.358e+00  7.632e-01 -7.483e-01]\n",
            " [-9.726e-01  1.791e+00  9.460e-01]\n",
            " [ 2.046e-01  1.618e-02  1.110e+00]\n",
            " [ 5.057e-01  9.022e-01  1.108e+00]]\n"
          ]
        }
      ]
    },
    {
      "cell_type": "markdown",
      "metadata": {
        "id": "0D0dmHr-1G8K"
      },
      "source": [
        "(1) 100本のベクトルを回転させる行列Rを生成し，回転後のベクトルを縦に積み重ねた(100, 3)の行列を求めます。ここで，ランダムな回転をする3次元回転行列Rは，`gen_R_3d`関数の引数にランダムに生成された3つの角度パラメータからなる1次元配列を入力することで生成します。"
      ]
    },
    {
      "cell_type": "code",
      "metadata": {
        "tags": [],
        "colab": {
          "base_uri": "https://localhost:8080/"
        },
        "id": "W_gXh6Gd1G8L",
        "outputId": "7135322e-eb01-4e68-9df9-288668f34728"
      },
      "source": [
        "# (1)\n",
        "def gen_R_3d(p):\n",
        "    px, py, pz = p\n",
        "    Rx = np.array([[1, 0, 0],\n",
        "                   [0, np.cos(px), np.sin(px)],\n",
        "                   [0, -np.sin(px), np.cos(px)]])\n",
        "    Ry = np.array([[np.cos(py), 0, -np.sin(py)],\n",
        "                   [0, 1, 0],\n",
        "                   [np.sin(py), 0, np.cos(py)]])\n",
        "    Rz = np.array([[np.cos(pz), np.sin(pz), 0],\n",
        "                   [-np.sin(pz), np.cos(pz), 0],\n",
        "                   [0, 0, 1]])\n",
        "\n",
        "    return Rz@Ry@Rx\n",
        "\n",
        "p =  2 * np.pi * random.rand(3)\n",
        "R = gen_R_3d(p)\n",
        "\n",
        "B = np.matmul(A, R)\n",
        "print(B)"
      ],
      "execution_count": null,
      "outputs": [
        {
          "output_type": "stream",
          "name": "stdout",
          "text": [
            "[[-0.093  0.102  0.812]\n",
            " [-0.977 -0.137 -1.513]\n",
            " [ 0.209  0.24   0.543]\n",
            " [-1.056 -2.029  0.586]\n",
            " [-1.281 -0.047 -0.647]\n",
            " [ 0.553  0.776 -1.327]\n",
            " [-1.985 -0.759 -0.951]\n",
            " [ 0.293 -0.862  0.207]\n",
            " [ 0.679  1.385 -0.687]\n",
            " [-0.108  0.356 -1.825]\n",
            " [ 0.473 -0.975 -1.688]\n",
            " [-1.861  0.076  0.943]\n",
            " [-1.049 -1.329 -0.368]\n",
            " [-0.044  0.04  -1.804]\n",
            " [ 0.638 -0.038 -0.471]\n",
            " [ 1.297  0.419  1.32 ]\n",
            " [-1.317 -0.432  2.007]\n",
            " [ 0.901  0.503 -0.079]\n",
            " [-0.316  0.802 -0.02 ]\n",
            " [ 0.435  0.855 -0.534]\n",
            " [-1.337  1.029 -0.811]\n",
            " [ 0.173  1.374  2.805]\n",
            " [ 0.113 -0.937 -1.56 ]\n",
            " [ 0.32   0.307  0.719]\n",
            " [-0.363  0.319 -0.176]\n",
            " [-0.573 -1.272 -1.817]\n",
            " [-0.73   0.441 -0.575]\n",
            " [-0.579 -0.55  -1.385]\n",
            " [ 2.176 -0.478  1.061]\n",
            " [ 0.386 -0.775  0.634]\n",
            " [-2.017  0.227  1.518]\n",
            " [-2.696  1.623 -0.374]\n",
            " [ 1.092 -1.536  1.199]\n",
            " [ 0.464 -0.67  -0.887]\n",
            " [ 0.224 -0.544  0.298]\n",
            " [ 0.351  0.494 -0.242]\n",
            " [-0.414 -0.464 -0.756]\n",
            " [-1.256  0.387 -1.819]\n",
            " [-1.444 -0.416  0.535]\n",
            " [ 0.831 -0.281  0.583]\n",
            " [-0.841 -1.233  1.249]\n",
            " [-0.271  0.147  0.883]\n",
            " [-0.867 -0.939  0.036]\n",
            " [ 0.125  1.419 -0.626]\n",
            " [ 0.35   0.006 -0.289]\n",
            " [-0.251 -0.204 -0.105]\n",
            " [ 0.743  0.08   0.514]\n",
            " [-0.176  1.789 -0.246]\n",
            " [ 0.53  -0.047 -0.584]\n",
            " [ 0.371 -0.072 -0.116]\n",
            " [-0.863 -0.212 -2.049]\n",
            " [-0.95  -0.633  0.791]\n",
            " [-1.39  -1.957 -0.803]\n",
            " [ 1.767  1.161 -1.25 ]\n",
            " [-0.224 -0.665  0.087]\n",
            " [ 0.085 -1.584 -0.943]\n",
            " [ 1.631 -0.762  0.546]\n",
            " [ 0.982  0.486  1.379]\n",
            " [-0.16   0.192  0.311]\n",
            " [-0.017  2.532 -0.414]\n",
            " [-0.398  0.712  1.253]\n",
            " [ 0.936 -0.356 -1.336]\n",
            " [-0.146  0.193 -0.921]\n",
            " [ 1.147  0.939  0.793]\n",
            " [-0.309  0.857 -0.853]\n",
            " [ 0.868 -0.461 -0.936]\n",
            " [-2.033 -0.568 -0.689]\n",
            " [ 0.362  0.783  0.96 ]\n",
            " [-0.127  0.02  -0.64 ]\n",
            " [ 0.531 -0.056 -0.403]\n",
            " [ 0.128 -1.219  0.676]\n",
            " [ 1.082  2.554 -0.675]\n",
            " [ 0.031  0.197 -0.092]\n",
            " [ 1.082 -0.446 -0.357]\n",
            " [ 0.05  -1.13  -0.124]\n",
            " [-0.799 -1.074  0.258]\n",
            " [ 0.105  0.061  1.081]\n",
            " [-0.652 -0.341  1.716]\n",
            " [ 0.266  0.367  1.146]\n",
            " [ 0.003 -1.176  2.099]\n",
            " [ 1.36  -0.105 -0.868]\n",
            " [-0.406 -0.735  0.05 ]\n",
            " [-0.603  2.494  0.255]\n",
            " [-0.868 -0.082  0.108]\n",
            " [ 1.12  -1.674 -1.116]\n",
            " [-0.683 -2.402  1.076]\n",
            " [-0.051 -1.139 -0.375]\n",
            " [-1.23   0.18   1.022]\n",
            " [ 0.022  0.509  0.434]\n",
            " [-2.247 -0.337  1.192]\n",
            " [-0.937  0.099 -0.576]\n",
            " [ 0.292  1.011  0.423]\n",
            " [ 1.116  0.212 -0.586]\n",
            " [ 0.276 -0.112  0.355]\n",
            " [-0.089  1.586  0.214]\n",
            " [-0.656  0.798 -0.077]\n",
            " [ 0.393 -0.422  1.629]\n",
            " [-1.778 -1.335 -0.323]\n",
            " [ 0.288 -0.89  -0.632]\n",
            " [-0.079 -1.513 -0.038]]\n"
          ]
        }
      ]
    },
    {
      "cell_type": "markdown",
      "metadata": {
        "tags": [],
        "id": "s0ivAfmh1G8L"
      },
      "source": [
        "(2) (1)で求めたベクトルは大きさも変わってしまっているため規格化する必要があります．(1)の各ベクトルを，(L2)ノルムが1となるように規格化して，順番を変えないまま縦に積み重ねた(100, 3)の行列を求めてください。"
      ]
    },
    {
      "cell_type": "code",
      "metadata": {
        "tags": [],
        "colab": {
          "base_uri": "https://localhost:8080/"
        },
        "id": "ZaI99uHi1G8L",
        "outputId": "a142fdd5-4af3-4028-fc06-ecf409883918"
      },
      "source": [
        "# (2)\n",
        "\n",
        "B_norm_l2 = LA.norm(B, ord=2, axis=1, keepdims=True)\n",
        "B_normalized = B / B_norm_l2\n",
        "print(B_normalized)"
      ],
      "execution_count": null,
      "outputs": [
        {
          "output_type": "stream",
          "name": "stdout",
          "text": [
            "[[-0.113  0.124  0.986]\n",
            " [-0.541 -0.076 -0.838]\n",
            " [ 0.332  0.381  0.863]\n",
            " [-0.447 -0.859  0.248]\n",
            " [-0.892 -0.033 -0.451]\n",
            " [ 0.338  0.475 -0.812]\n",
            " [-0.853 -0.326 -0.408]\n",
            " [ 0.313 -0.923  0.222]\n",
            " [ 0.402  0.82  -0.407]\n",
            " [-0.058  0.191 -0.98 ]\n",
            " [ 0.236 -0.486 -0.841]\n",
            " [-0.891  0.036  0.452]\n",
            " [-0.605 -0.767 -0.213]\n",
            " [-0.024  0.022 -0.999]\n",
            " [ 0.803 -0.047 -0.594]\n",
            " [ 0.684  0.221  0.696]\n",
            " [-0.54  -0.177  0.823]\n",
            " [ 0.87   0.486 -0.077]\n",
            " [-0.367  0.93  -0.023]\n",
            " [ 0.396  0.779 -0.487]\n",
            " [-0.714  0.55  -0.433]\n",
            " [ 0.055  0.439  0.897]\n",
            " [ 0.062 -0.514 -0.856]\n",
            " [ 0.379  0.364  0.851]\n",
            " [-0.706  0.62  -0.341]\n",
            " [-0.25  -0.555 -0.793]\n",
            " [-0.71   0.428 -0.559]\n",
            " [-0.362 -0.344 -0.866]\n",
            " [ 0.882 -0.194  0.43 ]\n",
            " [ 0.359 -0.722  0.591]\n",
            " [-0.796  0.09   0.599]\n",
            " [-0.851  0.512 -0.118]\n",
            " [ 0.489 -0.687  0.537]\n",
            " [ 0.385 -0.556 -0.736]\n",
            " [ 0.339 -0.825  0.452]\n",
            " [ 0.537  0.758 -0.37 ]\n",
            " [-0.423 -0.474 -0.772]\n",
            " [-0.56   0.172 -0.811]\n",
            " [-0.905 -0.261  0.336]\n",
            " [ 0.789 -0.267  0.553]\n",
            " [-0.432 -0.634  0.642]\n",
            " [-0.29   0.157  0.944]\n",
            " [-0.678 -0.734  0.028]\n",
            " [ 0.08   0.912 -0.402]\n",
            " [ 0.771  0.013 -0.636]\n",
            " [-0.739 -0.599 -0.309]\n",
            " [ 0.819  0.088  0.567]\n",
            " [-0.097  0.986 -0.136]\n",
            " [ 0.671 -0.059 -0.739]\n",
            " [ 0.939 -0.182 -0.293]\n",
            " [-0.386 -0.095 -0.917]\n",
            " [-0.684 -0.456  0.569]\n",
            " [-0.549 -0.773 -0.317]\n",
            " [ 0.719  0.473 -0.509]\n",
            " [-0.316 -0.941  0.123]\n",
            " [ 0.046 -0.858 -0.511]\n",
            " [ 0.867 -0.405  0.29 ]\n",
            " [ 0.558  0.276  0.783]\n",
            " [-0.401  0.482  0.779]\n",
            " [-0.007  0.987 -0.161]\n",
            " [-0.267  0.476  0.838]\n",
            " [ 0.561 -0.213 -0.8  ]\n",
            " [-0.153  0.203 -0.967]\n",
            " [ 0.682  0.559  0.472]\n",
            " [-0.247  0.687 -0.684]\n",
            " [ 0.64  -0.34  -0.69 ]\n",
            " [-0.916 -0.256 -0.31 ]\n",
            " [ 0.281  0.607  0.744]\n",
            " [-0.194  0.03  -0.98 ]\n",
            " [ 0.794 -0.083 -0.603]\n",
            " [ 0.091 -0.871  0.483]\n",
            " [ 0.379  0.895 -0.237]\n",
            " [ 0.143  0.897 -0.418]\n",
            " [ 0.884 -0.364 -0.292]\n",
            " [ 0.044 -0.993 -0.109]\n",
            " [-0.586 -0.788  0.189]\n",
            " [ 0.096  0.056  0.994]\n",
            " [-0.349 -0.183  0.919]\n",
            " [ 0.216  0.298  0.93 ]\n",
            " [ 0.001 -0.489  0.872]\n",
            " [ 0.841 -0.065 -0.537]\n",
            " [-0.483 -0.874  0.06 ]\n",
            " [-0.234  0.967  0.099]\n",
            " [-0.988 -0.094  0.122]\n",
            " [ 0.486 -0.727 -0.485]\n",
            " [-0.251 -0.883  0.396]\n",
            " [-0.042 -0.949 -0.313]\n",
            " [-0.764  0.112  0.635]\n",
            " [ 0.033  0.76   0.649]\n",
            " [-0.876 -0.131  0.465]\n",
            " [-0.849  0.09  -0.521]\n",
            " [ 0.257  0.891  0.373]\n",
            " [ 0.873  0.166 -0.459]\n",
            " [ 0.595 -0.241  0.767]\n",
            " [-0.056  0.989  0.134]\n",
            " [-0.633  0.77  -0.074]\n",
            " [ 0.228 -0.244  0.943]\n",
            " [-0.791 -0.594 -0.144]\n",
            " [ 0.255 -0.789 -0.56 ]\n",
            " [-0.052 -0.998 -0.025]]\n"
          ]
        }
      ]
    },
    {
      "cell_type": "markdown",
      "metadata": {
        "id": "xk-rd04c1G8L"
      },
      "source": [
        "(3) (2)で求めたノルム1の100本のベクトルに対して，それらを$-1$倍した100本のベクトルと元の100本のベクトルを，100本の順番を変えないまま**横に**積み重ねた(100, 6)の行列を求めてください。"
      ]
    },
    {
      "cell_type": "code",
      "metadata": {
        "tags": [],
        "colab": {
          "base_uri": "https://localhost:8080/"
        },
        "id": "PtpwVgAZ1G8L",
        "outputId": "7e9172c8-1b87-4531-91a2-b51e8656889b"
      },
      "source": [
        "# (3)\n",
        "\n",
        "C = np.concatenate([B_normalized, -B_normalized], axis=1)\n",
        "print(C)"
      ],
      "execution_count": null,
      "outputs": [
        {
          "output_type": "stream",
          "name": "stdout",
          "text": [
            "[[-0.113  0.124  0.986  0.113 -0.124 -0.986]\n",
            " [-0.541 -0.076 -0.838  0.541  0.076  0.838]\n",
            " [ 0.332  0.381  0.863 -0.332 -0.381 -0.863]\n",
            " [-0.447 -0.859  0.248  0.447  0.859 -0.248]\n",
            " [-0.892 -0.033 -0.451  0.892  0.033  0.451]\n",
            " [ 0.338  0.475 -0.812 -0.338 -0.475  0.812]\n",
            " [-0.853 -0.326 -0.408  0.853  0.326  0.408]\n",
            " [ 0.313 -0.923  0.222 -0.313  0.923 -0.222]\n",
            " [ 0.402  0.82  -0.407 -0.402 -0.82   0.407]\n",
            " [-0.058  0.191 -0.98   0.058 -0.191  0.98 ]\n",
            " [ 0.236 -0.486 -0.841 -0.236  0.486  0.841]\n",
            " [-0.891  0.036  0.452  0.891 -0.036 -0.452]\n",
            " [-0.605 -0.767 -0.213  0.605  0.767  0.213]\n",
            " [-0.024  0.022 -0.999  0.024 -0.022  0.999]\n",
            " [ 0.803 -0.047 -0.594 -0.803  0.047  0.594]\n",
            " [ 0.684  0.221  0.696 -0.684 -0.221 -0.696]\n",
            " [-0.54  -0.177  0.823  0.54   0.177 -0.823]\n",
            " [ 0.87   0.486 -0.077 -0.87  -0.486  0.077]\n",
            " [-0.367  0.93  -0.023  0.367 -0.93   0.023]\n",
            " [ 0.396  0.779 -0.487 -0.396 -0.779  0.487]\n",
            " [-0.714  0.55  -0.433  0.714 -0.55   0.433]\n",
            " [ 0.055  0.439  0.897 -0.055 -0.439 -0.897]\n",
            " [ 0.062 -0.514 -0.856 -0.062  0.514  0.856]\n",
            " [ 0.379  0.364  0.851 -0.379 -0.364 -0.851]\n",
            " [-0.706  0.62  -0.341  0.706 -0.62   0.341]\n",
            " [-0.25  -0.555 -0.793  0.25   0.555  0.793]\n",
            " [-0.71   0.428 -0.559  0.71  -0.428  0.559]\n",
            " [-0.362 -0.344 -0.866  0.362  0.344  0.866]\n",
            " [ 0.882 -0.194  0.43  -0.882  0.194 -0.43 ]\n",
            " [ 0.359 -0.722  0.591 -0.359  0.722 -0.591]\n",
            " [-0.796  0.09   0.599  0.796 -0.09  -0.599]\n",
            " [-0.851  0.512 -0.118  0.851 -0.512  0.118]\n",
            " [ 0.489 -0.687  0.537 -0.489  0.687 -0.537]\n",
            " [ 0.385 -0.556 -0.736 -0.385  0.556  0.736]\n",
            " [ 0.339 -0.825  0.452 -0.339  0.825 -0.452]\n",
            " [ 0.537  0.758 -0.37  -0.537 -0.758  0.37 ]\n",
            " [-0.423 -0.474 -0.772  0.423  0.474  0.772]\n",
            " [-0.56   0.172 -0.811  0.56  -0.172  0.811]\n",
            " [-0.905 -0.261  0.336  0.905  0.261 -0.336]\n",
            " [ 0.789 -0.267  0.553 -0.789  0.267 -0.553]\n",
            " [-0.432 -0.634  0.642  0.432  0.634 -0.642]\n",
            " [-0.29   0.157  0.944  0.29  -0.157 -0.944]\n",
            " [-0.678 -0.734  0.028  0.678  0.734 -0.028]\n",
            " [ 0.08   0.912 -0.402 -0.08  -0.912  0.402]\n",
            " [ 0.771  0.013 -0.636 -0.771 -0.013  0.636]\n",
            " [-0.739 -0.599 -0.309  0.739  0.599  0.309]\n",
            " [ 0.819  0.088  0.567 -0.819 -0.088 -0.567]\n",
            " [-0.097  0.986 -0.136  0.097 -0.986  0.136]\n",
            " [ 0.671 -0.059 -0.739 -0.671  0.059  0.739]\n",
            " [ 0.939 -0.182 -0.293 -0.939  0.182  0.293]\n",
            " [-0.386 -0.095 -0.917  0.386  0.095  0.917]\n",
            " [-0.684 -0.456  0.569  0.684  0.456 -0.569]\n",
            " [-0.549 -0.773 -0.317  0.549  0.773  0.317]\n",
            " [ 0.719  0.473 -0.509 -0.719 -0.473  0.509]\n",
            " [-0.316 -0.941  0.123  0.316  0.941 -0.123]\n",
            " [ 0.046 -0.858 -0.511 -0.046  0.858  0.511]\n",
            " [ 0.867 -0.405  0.29  -0.867  0.405 -0.29 ]\n",
            " [ 0.558  0.276  0.783 -0.558 -0.276 -0.783]\n",
            " [-0.401  0.482  0.779  0.401 -0.482 -0.779]\n",
            " [-0.007  0.987 -0.161  0.007 -0.987  0.161]\n",
            " [-0.267  0.476  0.838  0.267 -0.476 -0.838]\n",
            " [ 0.561 -0.213 -0.8   -0.561  0.213  0.8  ]\n",
            " [-0.153  0.203 -0.967  0.153 -0.203  0.967]\n",
            " [ 0.682  0.559  0.472 -0.682 -0.559 -0.472]\n",
            " [-0.247  0.687 -0.684  0.247 -0.687  0.684]\n",
            " [ 0.64  -0.34  -0.69  -0.64   0.34   0.69 ]\n",
            " [-0.916 -0.256 -0.31   0.916  0.256  0.31 ]\n",
            " [ 0.281  0.607  0.744 -0.281 -0.607 -0.744]\n",
            " [-0.194  0.03  -0.98   0.194 -0.03   0.98 ]\n",
            " [ 0.794 -0.083 -0.603 -0.794  0.083  0.603]\n",
            " [ 0.091 -0.871  0.483 -0.091  0.871 -0.483]\n",
            " [ 0.379  0.895 -0.237 -0.379 -0.895  0.237]\n",
            " [ 0.143  0.897 -0.418 -0.143 -0.897  0.418]\n",
            " [ 0.884 -0.364 -0.292 -0.884  0.364  0.292]\n",
            " [ 0.044 -0.993 -0.109 -0.044  0.993  0.109]\n",
            " [-0.586 -0.788  0.189  0.586  0.788 -0.189]\n",
            " [ 0.096  0.056  0.994 -0.096 -0.056 -0.994]\n",
            " [-0.349 -0.183  0.919  0.349  0.183 -0.919]\n",
            " [ 0.216  0.298  0.93  -0.216 -0.298 -0.93 ]\n",
            " [ 0.001 -0.489  0.872 -0.001  0.489 -0.872]\n",
            " [ 0.841 -0.065 -0.537 -0.841  0.065  0.537]\n",
            " [-0.483 -0.874  0.06   0.483  0.874 -0.06 ]\n",
            " [-0.234  0.967  0.099  0.234 -0.967 -0.099]\n",
            " [-0.988 -0.094  0.122  0.988  0.094 -0.122]\n",
            " [ 0.486 -0.727 -0.485 -0.486  0.727  0.485]\n",
            " [-0.251 -0.883  0.396  0.251  0.883 -0.396]\n",
            " [-0.042 -0.949 -0.313  0.042  0.949  0.313]\n",
            " [-0.764  0.112  0.635  0.764 -0.112 -0.635]\n",
            " [ 0.033  0.76   0.649 -0.033 -0.76  -0.649]\n",
            " [-0.876 -0.131  0.465  0.876  0.131 -0.465]\n",
            " [-0.849  0.09  -0.521  0.849 -0.09   0.521]\n",
            " [ 0.257  0.891  0.373 -0.257 -0.891 -0.373]\n",
            " [ 0.873  0.166 -0.459 -0.873 -0.166  0.459]\n",
            " [ 0.595 -0.241  0.767 -0.595  0.241 -0.767]\n",
            " [-0.056  0.989  0.134  0.056 -0.989 -0.134]\n",
            " [-0.633  0.77  -0.074  0.633 -0.77   0.074]\n",
            " [ 0.228 -0.244  0.943 -0.228  0.244 -0.943]\n",
            " [-0.791 -0.594 -0.144  0.791  0.594  0.144]\n",
            " [ 0.255 -0.789 -0.56  -0.255  0.789  0.56 ]\n",
            " [-0.052 -0.998 -0.025  0.052  0.998  0.025]]\n"
          ]
        }
      ]
    },
    {
      "cell_type": "markdown",
      "metadata": {
        "id": "4XdINNOH1G8L"
      },
      "source": [
        "(4)(やや難)いま，3次元空間なので象限は第0〜第7までの8象限あります。ここで，象限を求める代わりに，正規直交基底(標準基底)とその逆向きのベクトル(合わせて6本,適当に番号を振ってよい)のうち最も\"似ている\"ものの番号を求めるとします。回転後のベクトルの番号を格納した(100, 1)の行列を求めてください。\n",
        "(ヒント: ベクトルの割り振る番号を求めるのにどうすればいいかを考える。ここで内積を使うと計算が遅い。わからない人は3次元ではなく，2次元のベクトルについて考えてみよう。ここで，(2)で規格化したことを用いるとよいかも)"
      ]
    },
    {
      "cell_type": "code",
      "metadata": {
        "tags": [],
        "colab": {
          "base_uri": "https://localhost:8080/"
        },
        "id": "icjlqBN31G8M",
        "outputId": "f6db9450-f06f-4b42-cc1e-19ace70ffc0b"
      },
      "source": [
        "# (4)\n",
        "C_argmax = np.argmax(C, axis=1).reshape(-1,1)\n",
        "print(C_argmax)"
      ],
      "execution_count": null,
      "outputs": [
        {
          "output_type": "stream",
          "name": "stdout",
          "text": [
            "[[2]\n",
            " [5]\n",
            " [2]\n",
            " [4]\n",
            " [3]\n",
            " [5]\n",
            " [3]\n",
            " [4]\n",
            " [1]\n",
            " [5]\n",
            " [5]\n",
            " [3]\n",
            " [4]\n",
            " [5]\n",
            " [0]\n",
            " [2]\n",
            " [2]\n",
            " [0]\n",
            " [1]\n",
            " [1]\n",
            " [3]\n",
            " [2]\n",
            " [5]\n",
            " [2]\n",
            " [3]\n",
            " [5]\n",
            " [3]\n",
            " [5]\n",
            " [0]\n",
            " [4]\n",
            " [3]\n",
            " [3]\n",
            " [4]\n",
            " [5]\n",
            " [4]\n",
            " [1]\n",
            " [5]\n",
            " [5]\n",
            " [3]\n",
            " [0]\n",
            " [2]\n",
            " [2]\n",
            " [4]\n",
            " [1]\n",
            " [0]\n",
            " [3]\n",
            " [0]\n",
            " [1]\n",
            " [5]\n",
            " [0]\n",
            " [5]\n",
            " [3]\n",
            " [4]\n",
            " [0]\n",
            " [4]\n",
            " [4]\n",
            " [0]\n",
            " [2]\n",
            " [2]\n",
            " [1]\n",
            " [2]\n",
            " [5]\n",
            " [5]\n",
            " [0]\n",
            " [1]\n",
            " [5]\n",
            " [3]\n",
            " [2]\n",
            " [5]\n",
            " [0]\n",
            " [4]\n",
            " [1]\n",
            " [1]\n",
            " [0]\n",
            " [4]\n",
            " [4]\n",
            " [2]\n",
            " [2]\n",
            " [2]\n",
            " [2]\n",
            " [0]\n",
            " [4]\n",
            " [1]\n",
            " [3]\n",
            " [4]\n",
            " [4]\n",
            " [4]\n",
            " [3]\n",
            " [1]\n",
            " [3]\n",
            " [3]\n",
            " [1]\n",
            " [0]\n",
            " [2]\n",
            " [1]\n",
            " [1]\n",
            " [2]\n",
            " [3]\n",
            " [4]\n",
            " [4]]\n"
          ]
        }
      ]
    },
    {
      "cell_type": "markdown",
      "metadata": {
        "id": "27yH1ScW1G8M"
      },
      "source": [
        "ここで得られた100個の整数が，100本のベクトルに割り当てられる値となる。\n",
        "\n",
        "(5) (余力のある人)100本のベクトル間の任意の2本のなす角$\\theta$の対して$\\cos \\theta$を計算し，\"似ている\"ベクトル同士は高確率で同じ整数値が割り振られており，\"似ていない\"ベクトル同士は高確率で異なる整数値が割り当てられていることを確認してください。"
      ]
    },
    {
      "cell_type": "code",
      "metadata": {
        "colab": {
          "base_uri": "https://localhost:8080/"
        },
        "id": "YcwJcfle1G8M",
        "outputId": "ae67d55f-b50e-4aeb-f5ff-a0f748fd7d0d"
      },
      "source": [
        "# (5)\n",
        "\n",
        "D = B_normalized\n",
        "D_num = C_argmax\n",
        "\n",
        "#似ているかどうかを判定するcosの閾値の設定\n",
        "threshold = 1 / np.sqrt(2)\n",
        "\n",
        "n_similar = 0           #似ているベクトルの数\n",
        "n_similar_same = 0      #そのうち番号が同じものの数\n",
        "n_notsimilar = 0        #似ていないベクトルの数\n",
        "n_notsimilar_dif = 0    #そのうち番号が異なるものの数\n",
        "for i in range(100):\n",
        "    for j in range(i+1,100):\n",
        "        cos = np.dot(D[i],D[j]) / (LA.norm(D[i]) * LA.norm(D[j]))\n",
        "        #似ている\n",
        "        if cos > threshold:\n",
        "            n_similar += 1\n",
        "            if D_num[i] == D_num[j]:\n",
        "                n_similar_same += 1\n",
        "        #似ていない\n",
        "        else:\n",
        "            n_notsimilar += 1\n",
        "            if D_num[i] != D_num[j]:\n",
        "                n_notsimilar_dif += 1\n",
        "\n",
        "print('似ているベクトルのうち、同じ整数値が割り振られている： ',n_similar_same / n_similar)\n",
        "print('似ていないベクトルのうち、異なる整数値が割り振られている： ',n_notsimilar_dif / n_notsimilar)"
      ],
      "execution_count": null,
      "outputs": [
        {
          "output_type": "stream",
          "name": "stdout",
          "text": [
            "似ているベクトルのうち、同じ整数値が割り振られている：  0.6476462196861626\n",
            "似ていないベクトルのうち、異なる整数値が割り振られている：  0.9204518710284773\n"
          ]
        }
      ]
    },
    {
      "cell_type": "code",
      "metadata": {
        "id": "tGfpnNn43Zo9"
      },
      "source": [
        ""
      ],
      "execution_count": null,
      "outputs": []
    }
  ]
}